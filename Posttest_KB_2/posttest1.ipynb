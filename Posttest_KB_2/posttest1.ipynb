{
 "cells": [
  {
   "cell_type": "code",
   "execution_count": 2,
   "metadata": {},
   "outputs": [],
   "source": [
    "import pandas as pd\n",
    "import numpy as np\n",
    "\n",
    "df = pd.read_csv(\"movies.csv\")"
   ]
  },
  {
   "cell_type": "markdown",
   "metadata": {},
   "source": [
    "Jumlah Record"
   ]
  },
  {
   "cell_type": "code",
   "execution_count": 12,
   "metadata": {},
   "outputs": [
    {
     "name": "stdout",
     "output_type": "stream",
     "text": [
      "Jumlah record: 7668\n"
     ]
    }
   ],
   "source": [
    "# jumlah baris adalah index terakhir + 1\n",
    "n_record, n_attr = df.shape\n",
    "print(f\"Jumlah record: {n_record}\")\n"
   ]
  },
  {
   "cell_type": "markdown",
   "metadata": {},
   "source": [
    "Nama Atttribute"
   ]
  },
  {
   "cell_type": "code",
   "execution_count": 50,
   "metadata": {},
   "outputs": [
    {
     "name": "stdout",
     "output_type": "stream",
     "text": [
      "Index(['name', 'rating', 'genre', 'year', 'released', 'score', 'votes',\n",
      "       'director', 'writer', 'star', 'country', 'budget', 'gross', 'company',\n",
      "       'runtime'],\n",
      "      dtype='object')\n"
     ]
    }
   ],
   "source": [
    "attributes = df.columns\n",
    "print(attributes)"
   ]
  },
  {
   "cell_type": "markdown",
   "metadata": {},
   "source": [
    "Jumlah Attribute Tipe Objek, Angka, dan Memiliki NULL"
   ]
  },
  {
   "cell_type": "code",
   "execution_count": 51,
   "metadata": {},
   "outputs": [
    {
     "name": "stdout",
     "output_type": "stream",
     "text": [
      "Jumlah attribute angka: 6\n"
     ]
    }
   ],
   "source": [
    "n_attr_int = df.dtypes[df.dtypes == \"int64\"].count()\n",
    "n_attr_float = df.dtypes[df.dtypes == \"float64\"].count()\n",
    "n_attr_object = df.dtypes[df.dtypes == \"object\"].count()\n",
    "\n",
    "print(f\"Jumlah attribute angka: {n_attr_int+n_attr_float}\")\n",
    "print(f\"Jumlah attribute object: {n_attr_object}\")\n",
    "\n"
   ]
  }
 ],
 "metadata": {
  "kernelspec": {
   "display_name": "Python 3.10.7 64-bit",
   "language": "python",
   "name": "python3"
  },
  "language_info": {
   "codemirror_mode": {
    "name": "ipython",
    "version": 3
   },
   "file_extension": ".py",
   "mimetype": "text/x-python",
   "name": "python",
   "nbconvert_exporter": "python",
   "pygments_lexer": "ipython3",
   "version": "3.10.7"
  },
  "orig_nbformat": 4,
  "vscode": {
   "interpreter": {
    "hash": "afb734500600fd355917ca529030176ea0ca205570884b88f2f6f7d791fd3fbe"
   }
  }
 },
 "nbformat": 4,
 "nbformat_minor": 2
}
