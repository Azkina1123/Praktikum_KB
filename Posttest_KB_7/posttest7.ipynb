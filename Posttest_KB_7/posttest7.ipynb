{
 "cells": [
  {
   "cell_type": "markdown",
   "metadata": {},
   "source": [
    "AZIIZAH OKI SHOFRINA <br>\n",
    "2109106004 <br>\n",
    "INFORMATIKA A'21"
   ]
  },
  {
   "cell_type": "markdown",
   "metadata": {},
   "source": [
    "#### Import modul"
   ]
  },
  {
   "cell_type": "code",
   "execution_count": 1,
   "metadata": {},
   "outputs": [],
   "source": [
    "import tensorflow as tf"
   ]
  },
  {
   "cell_type": "markdown",
   "metadata": {},
   "source": [
    "# No. 1\n",
    "### Buatlah sebuah tensor dengan shape (5, 5) dengan nilai random yang disimpan dalam variable random_tensor."
   ]
  },
  {
   "cell_type": "code",
   "execution_count": 2,
   "metadata": {},
   "outputs": [
    {
     "name": "stdout",
     "output_type": "stream",
     "text": [
      "tf.Tensor(\n",
      "[[ 0.03669237  0.03051773  1.99624177 -0.3884754   0.01240472]\n",
      " [ 1.14228139  0.34847898  0.97222707 -0.23326087  1.10165704]\n",
      " [-1.38735855 -0.77445593  1.54821737 -1.04916067  1.10381296]\n",
      " [ 1.94754295 -0.77407287  0.53985911  1.10544381 -0.17394287]\n",
      " [ 0.86535825  0.43681528 -0.75375532  0.70619395  0.7715569 ]], shape=(5, 5), dtype=float64)\n"
     ]
    }
   ],
   "source": [
    "random_tensor = tf.random.normal([5, 5], dtype=tf.float64)\n",
    "print(random_tensor)"
   ]
  },
  {
   "cell_type": "markdown",
   "metadata": {},
   "source": [
    "# No. 2\n",
    "### Buatlah sebuah tensor dengan shape (5, 5) dari sebuah list dengan nilai bilangan prima dalam variable prime_tensor."
   ]
  },
  {
   "cell_type": "code",
   "execution_count": 3,
   "metadata": {},
   "outputs": [
    {
     "name": "stdout",
     "output_type": "stream",
     "text": [
      "tf.Tensor(\n",
      "[[ 2.  3.  5.  7. 11.]\n",
      " [13. 17. 19. 23. 29.]\n",
      " [31. 37. 41. 43. 47.]\n",
      " [53. 59. 61. 67. 71.]\n",
      " [73. 79. 83. 89. 97.]], shape=(5, 5), dtype=float64)\n"
     ]
    }
   ],
   "source": [
    "prime_tensor = tf.convert_to_tensor(\n",
    "    [[2,  3,  5,  7,  11],\n",
    "     [13, 17, 19, 23, 29],\n",
    "     [31, 37, 41, 43, 47],\n",
    "     [53, 59, 61, 67, 71],\n",
    "     [73, 79, 83, 89, 97]],\n",
    "     dtype=tf.float64\n",
    ")\n",
    "print(prime_tensor)"
   ]
  },
  {
   "cell_type": "markdown",
   "metadata": {},
   "source": [
    "# No. 3\n",
    "### Tampilkan dimensi dari kedua variable tersebut."
   ]
  },
  {
   "cell_type": "markdown",
   "metadata": {},
   "source": [
    "### Dimension Display random_tensor\n",
    "#### Menggunakan .shape"
   ]
  },
  {
   "cell_type": "code",
   "execution_count": 4,
   "metadata": {},
   "outputs": [
    {
     "name": "stdout",
     "output_type": "stream",
     "text": [
      "(5, 5)\n"
     ]
    }
   ],
   "source": [
    "print(random_tensor.shape)"
   ]
  },
  {
   "cell_type": "markdown",
   "metadata": {},
   "source": [
    "#### Menggunakan .get_shape()"
   ]
  },
  {
   "cell_type": "code",
   "execution_count": 5,
   "metadata": {},
   "outputs": [
    {
     "name": "stdout",
     "output_type": "stream",
     "text": [
      "(5, 5)\n"
     ]
    }
   ],
   "source": [
    "print(random_tensor.get_shape())"
   ]
  },
  {
   "cell_type": "markdown",
   "metadata": {},
   "source": [
    "#### Menggunakan tf.shape()"
   ]
  },
  {
   "cell_type": "code",
   "execution_count": 6,
   "metadata": {},
   "outputs": [
    {
     "name": "stdout",
     "output_type": "stream",
     "text": [
      "tf.Tensor([5 5], shape=(2,), dtype=int32)\n"
     ]
    }
   ],
   "source": [
    "print(tf.shape(random_tensor))"
   ]
  },
  {
   "cell_type": "markdown",
   "metadata": {},
   "source": [
    "### Dimension Display prime_tensor"
   ]
  },
  {
   "cell_type": "markdown",
   "metadata": {},
   "source": [
    "#### Menggunakan .shape"
   ]
  },
  {
   "cell_type": "code",
   "execution_count": 7,
   "metadata": {},
   "outputs": [
    {
     "name": "stdout",
     "output_type": "stream",
     "text": [
      "(5, 5)\n"
     ]
    }
   ],
   "source": [
    "print(prime_tensor.shape)"
   ]
  },
  {
   "cell_type": "markdown",
   "metadata": {},
   "source": [
    "#### Menggunakan .get_shape()"
   ]
  },
  {
   "cell_type": "code",
   "execution_count": 8,
   "metadata": {},
   "outputs": [
    {
     "name": "stdout",
     "output_type": "stream",
     "text": [
      "(5, 5)\n"
     ]
    }
   ],
   "source": [
    "print(prime_tensor.get_shape())"
   ]
  },
  {
   "cell_type": "markdown",
   "metadata": {},
   "source": [
    "#### Menggunakan tf.shape()"
   ]
  },
  {
   "cell_type": "code",
   "execution_count": 9,
   "metadata": {},
   "outputs": [
    {
     "name": "stdout",
     "output_type": "stream",
     "text": [
      "tf.Tensor([5 5], shape=(2,), dtype=int32)\n"
     ]
    }
   ],
   "source": [
    "print(tf.shape(prime_tensor))"
   ]
  },
  {
   "cell_type": "markdown",
   "metadata": {},
   "source": [
    "# No. 4\n",
    "### Tampilkan hasil dari perhitungan aritmetika 2 variable tersebut (Gunakan minimal 5 operator)."
   ]
  },
  {
   "cell_type": "markdown",
   "metadata": {},
   "source": [
    "#### Penjumlahan (tf.add())"
   ]
  },
  {
   "cell_type": "code",
   "execution_count": 10,
   "metadata": {},
   "outputs": [
    {
     "name": "stdout",
     "output_type": "stream",
     "text": [
      "tf.Tensor(\n",
      "[[ 2.03669237  3.03051773  6.99624177  6.6115246  11.01240472]\n",
      " [14.14228139 17.34847898 19.97222707 22.76673913 30.10165704]\n",
      " [29.61264145 36.22554407 42.54821737 41.95083933 48.10381296]\n",
      " [54.94754295 58.22592713 61.53985911 68.10544381 70.82605713]\n",
      " [73.86535825 79.43681528 82.24624468 89.70619395 97.7715569 ]], shape=(5, 5), dtype=float64)\n"
     ]
    }
   ],
   "source": [
    "print(tf.add(random_tensor, prime_tensor))"
   ]
  },
  {
   "cell_type": "markdown",
   "metadata": {},
   "source": [
    "#### Pengurangan (tf.subtract())"
   ]
  },
  {
   "cell_type": "code",
   "execution_count": 11,
   "metadata": {},
   "outputs": [
    {
     "name": "stdout",
     "output_type": "stream",
     "text": [
      "tf.Tensor(\n",
      "[[ -1.96330763  -2.96948227  -3.00375823  -7.3884754  -10.98759528]\n",
      " [-11.85771861 -16.65152102 -18.02777293 -23.23326087 -27.89834296]\n",
      " [-32.38735855 -37.77445593 -39.45178263 -44.04916067 -45.89618704]\n",
      " [-51.05245705 -59.77407287 -60.46014089 -65.89455619 -71.17394287]\n",
      " [-72.13464175 -78.56318472 -83.75375532 -88.29380605 -96.2284431 ]], shape=(5, 5), dtype=float64)\n"
     ]
    }
   ],
   "source": [
    "print(tf.subtract(random_tensor, prime_tensor))"
   ]
  },
  {
   "cell_type": "markdown",
   "metadata": {},
   "source": [
    "#### Perkalian (tf.multiply())"
   ]
  },
  {
   "cell_type": "code",
   "execution_count": 12,
   "metadata": {},
   "outputs": [
    {
     "name": "stdout",
     "output_type": "stream",
     "text": [
      "tf.Tensor(\n",
      "[[ 7.33847410e-02  9.15532023e-02  9.98120885e+00 -2.71932779e+00\n",
      "   1.36451912e-01]\n",
      " [ 1.48496580e+01  5.92414262e+00  1.84723144e+01 -5.36499994e+00\n",
      "   3.19480543e+01]\n",
      " [-4.30081150e+01 -2.86548694e+01  6.34769120e+01 -4.51139090e+01\n",
      "   5.18792091e+01]\n",
      " [ 1.03219776e+02 -4.56702992e+01  3.29314057e+01  7.40647356e+01\n",
      "  -1.23499441e+01]\n",
      " [ 6.31711525e+01  3.45084070e+01 -6.25616920e+01  6.28512613e+01\n",
      "   7.48410190e+01]], shape=(5, 5), dtype=float64)\n"
     ]
    }
   ],
   "source": [
    "print(tf.multiply(random_tensor, prime_tensor))"
   ]
  },
  {
   "cell_type": "markdown",
   "metadata": {},
   "source": [
    "#### Pembagian (tf.divide())"
   ]
  },
  {
   "cell_type": "code",
   "execution_count": 13,
   "metadata": {},
   "outputs": [
    {
     "name": "stdout",
     "output_type": "stream",
     "text": [
      "tf.Tensor(\n",
      "[[ 0.01834619  0.01017258  0.39924835 -0.05549649  0.0011277 ]\n",
      " [ 0.0878678   0.02049876  0.05116985 -0.01014178  0.03798817]\n",
      " [-0.0447535  -0.02093124  0.0377614  -0.02439909  0.02348538]\n",
      " [ 0.03674609 -0.01311988  0.00885015  0.01649916 -0.0024499 ]\n",
      " [ 0.01185422  0.00552931 -0.00908139  0.00793476  0.00795419]], shape=(5, 5), dtype=float64)\n"
     ]
    }
   ],
   "source": [
    "print(tf.divide(random_tensor, prime_tensor))"
   ]
  },
  {
   "cell_type": "markdown",
   "metadata": {},
   "source": [
    "#### Pangkat (tf.pow())"
   ]
  },
  {
   "cell_type": "code",
   "execution_count": 14,
   "metadata": {},
   "outputs": [
    {
     "name": "stdout",
     "output_type": "stream",
     "text": [
      "tf.Tensor(\n",
      "[[ 1.34633005e-03  2.84221452e-05  3.17004694e+01 -1.33519485e-03\n",
      "   1.07017883e-21]\n",
      " [ 5.63702949e+00  1.64816971e-08  5.85580372e-01 -2.88644549e-15\n",
      "   1.65708980e+01]\n",
      " [-2.55770324e+04 -7.81408686e-05  6.06889064e+07 -7.87419487e+00\n",
      "   1.03773857e+02]\n",
      " [ 2.20197967e+15 -2.74238780e-07  4.66773832e-17  8.25956450e+02\n",
      "  -1.17184892e-54]\n",
      " [ 2.60197793e-05  3.83290314e-29 -6.45836577e-11  3.58290404e-14\n",
      "   1.18765938e-11]], shape=(5, 5), dtype=float64)\n"
     ]
    }
   ],
   "source": [
    "print(tf.pow(random_tensor, prime_tensor))"
   ]
  },
  {
   "cell_type": "markdown",
   "metadata": {},
   "source": [
    "#### Logaritma (tf.math.log())"
   ]
  },
  {
   "cell_type": "code",
   "execution_count": 15,
   "metadata": {},
   "outputs": [
    {
     "name": "stdout",
     "output_type": "stream",
     "text": [
      "tf.Tensor(\n",
      "[[-3.30518643 -3.48944732  0.6912663          nan -4.38967829]\n",
      " [ 0.13302748 -1.05417737 -0.02816589         nan  0.09681545]\n",
      " [        nan         nan  0.43710418         nan  0.09877051]\n",
      " [ 0.66656855         nan -0.61644708  0.1002469          nan]\n",
      " [-0.14461169 -0.82824488         nan -0.34786537 -0.25934486]], shape=(5, 5), dtype=float64)\n"
     ]
    }
   ],
   "source": [
    "print(tf.math.log(random_tensor, prime_tensor))"
   ]
  },
  {
   "cell_type": "markdown",
   "metadata": {},
   "source": [
    "# No. 5\n",
    "### Tampilkan nilai maksimum dan minimum dari variable random_tensor."
   ]
  },
  {
   "cell_type": "markdown",
   "metadata": {},
   "source": [
    "#### Nilai maksimum dari kolom"
   ]
  },
  {
   "cell_type": "code",
   "execution_count": 16,
   "metadata": {},
   "outputs": [
    {
     "name": "stdout",
     "output_type": "stream",
     "text": [
      "tf.Tensor([3 4 0 3 2], shape=(5,), dtype=int64)\n"
     ]
    }
   ],
   "source": [
    "print(tf.argmax(random_tensor, axis=0))"
   ]
  },
  {
   "cell_type": "markdown",
   "metadata": {},
   "source": [
    "#### Nilai maksimum dari baris"
   ]
  },
  {
   "cell_type": "code",
   "execution_count": 17,
   "metadata": {},
   "outputs": [
    {
     "name": "stdout",
     "output_type": "stream",
     "text": [
      "tf.Tensor([2 0 2 0 0], shape=(5,), dtype=int64)\n"
     ]
    }
   ],
   "source": [
    "print(tf.argmax(random_tensor, axis=1))"
   ]
  },
  {
   "cell_type": "markdown",
   "metadata": {},
   "source": [
    "#### Nilai minimum dari kolom"
   ]
  },
  {
   "cell_type": "code",
   "execution_count": 18,
   "metadata": {},
   "outputs": [
    {
     "name": "stdout",
     "output_type": "stream",
     "text": [
      "tf.Tensor([2 2 4 2 3], shape=(5,), dtype=int64)\n"
     ]
    }
   ],
   "source": [
    "print(tf.argmin(random_tensor, axis=0))"
   ]
  },
  {
   "cell_type": "markdown",
   "metadata": {},
   "source": [
    "#### Nilai minimum dari baris"
   ]
  },
  {
   "cell_type": "code",
   "execution_count": 19,
   "metadata": {},
   "outputs": [
    {
     "name": "stdout",
     "output_type": "stream",
     "text": [
      "tf.Tensor([3 3 0 1 2], shape=(5,), dtype=int64)\n"
     ]
    }
   ],
   "source": [
    "print(tf.argmin(random_tensor, axis=1))"
   ]
  },
  {
   "cell_type": "markdown",
   "metadata": {},
   "source": [
    "# No. 6\n",
    "### Tampilkan hasil dari penggabungan variable random_tensor dengan prime_tensor (concatenation)"
   ]
  },
  {
   "cell_type": "markdown",
   "metadata": {},
   "source": [
    "#### Hasil penggabungan berdasarkan dimensi kolom"
   ]
  },
  {
   "cell_type": "code",
   "execution_count": 20,
   "metadata": {},
   "outputs": [
    {
     "name": "stdout",
     "output_type": "stream",
     "text": [
      "tf.Tensor(\n",
      "[[ 3.66923705e-02  3.05177341e-02  1.99624177e+00 -3.88475399e-01\n",
      "   1.24047193e-02]\n",
      " [ 1.14228139e+00  3.48478978e-01  9.72227075e-01 -2.33260867e-01\n",
      "   1.10165704e+00]\n",
      " [-1.38735855e+00 -7.74455929e-01  1.54821737e+00 -1.04916067e+00\n",
      "   1.10381296e+00]\n",
      " [ 1.94754295e+00 -7.74072868e-01  5.39859110e-01  1.10544381e+00\n",
      "  -1.73942874e-01]\n",
      " [ 8.65358253e-01  4.36815279e-01 -7.53755325e-01  7.06193947e-01\n",
      "   7.71556897e-01]\n",
      " [ 2.00000000e+00  3.00000000e+00  5.00000000e+00  7.00000000e+00\n",
      "   1.10000000e+01]\n",
      " [ 1.30000000e+01  1.70000000e+01  1.90000000e+01  2.30000000e+01\n",
      "   2.90000000e+01]\n",
      " [ 3.10000000e+01  3.70000000e+01  4.10000000e+01  4.30000000e+01\n",
      "   4.70000000e+01]\n",
      " [ 5.30000000e+01  5.90000000e+01  6.10000000e+01  6.70000000e+01\n",
      "   7.10000000e+01]\n",
      " [ 7.30000000e+01  7.90000000e+01  8.30000000e+01  8.90000000e+01\n",
      "   9.70000000e+01]], shape=(10, 5), dtype=float64)\n"
     ]
    }
   ],
   "source": [
    "hasil_concat = tf.concat(\n",
    "    [random_tensor, prime_tensor],\n",
    "    axis=0\n",
    ")\n",
    "print(hasil_concat)"
   ]
  },
  {
   "cell_type": "markdown",
   "metadata": {},
   "source": [
    "#### Dimensi hasil penggabungan di kolom"
   ]
  },
  {
   "cell_type": "code",
   "execution_count": 21,
   "metadata": {},
   "outputs": [
    {
     "name": "stdout",
     "output_type": "stream",
     "text": [
      "(10, 5)\n"
     ]
    }
   ],
   "source": [
    "print(hasil_concat.shape)"
   ]
  },
  {
   "cell_type": "markdown",
   "metadata": {},
   "source": [
    "#### Hasil penggabungan berdasarkan dimensi baris"
   ]
  },
  {
   "cell_type": "code",
   "execution_count": 22,
   "metadata": {},
   "outputs": [
    {
     "name": "stdout",
     "output_type": "stream",
     "text": [
      "tf.Tensor(\n",
      "[[ 3.66923705e-02  3.05177341e-02  1.99624177e+00 -3.88475399e-01\n",
      "   1.24047193e-02  2.00000000e+00  3.00000000e+00  5.00000000e+00\n",
      "   7.00000000e+00  1.10000000e+01]\n",
      " [ 1.14228139e+00  3.48478978e-01  9.72227075e-01 -2.33260867e-01\n",
      "   1.10165704e+00  1.30000000e+01  1.70000000e+01  1.90000000e+01\n",
      "   2.30000000e+01  2.90000000e+01]\n",
      " [-1.38735855e+00 -7.74455929e-01  1.54821737e+00 -1.04916067e+00\n",
      "   1.10381296e+00  3.10000000e+01  3.70000000e+01  4.10000000e+01\n",
      "   4.30000000e+01  4.70000000e+01]\n",
      " [ 1.94754295e+00 -7.74072868e-01  5.39859110e-01  1.10544381e+00\n",
      "  -1.73942874e-01  5.30000000e+01  5.90000000e+01  6.10000000e+01\n",
      "   6.70000000e+01  7.10000000e+01]\n",
      " [ 8.65358253e-01  4.36815279e-01 -7.53755325e-01  7.06193947e-01\n",
      "   7.71556897e-01  7.30000000e+01  7.90000000e+01  8.30000000e+01\n",
      "   8.90000000e+01  9.70000000e+01]], shape=(5, 10), dtype=float64)\n"
     ]
    }
   ],
   "source": [
    "hasil_concat = tf.concat(\n",
    "    [random_tensor, prime_tensor],\n",
    "    axis=1\n",
    ")\n",
    "print(hasil_concat)"
   ]
  },
  {
   "cell_type": "markdown",
   "metadata": {},
   "source": [
    "#### Dimensi hasil penggabungan di baris"
   ]
  },
  {
   "cell_type": "code",
   "execution_count": 23,
   "metadata": {},
   "outputs": [
    {
     "name": "stdout",
     "output_type": "stream",
     "text": [
      "(5, 10)\n"
     ]
    }
   ],
   "source": [
    "print(hasil_concat.shape)\n"
   ]
  },
  {
   "cell_type": "markdown",
   "metadata": {},
   "source": [
    "# No. 7\n",
    "### Tampilkan hasil sorting dari kedua variable di atas (descending)."
   ]
  },
  {
   "cell_type": "markdown",
   "metadata": {},
   "source": [
    "#### Sorting random_tensor"
   ]
  },
  {
   "cell_type": "code",
   "execution_count": 24,
   "metadata": {},
   "outputs": [
    {
     "name": "stdout",
     "output_type": "stream",
     "text": [
      "tf.Tensor(\n",
      "[[ 1.99624177  0.03669237  0.03051773  0.01240472 -0.3884754 ]\n",
      " [ 1.14228139  1.10165704  0.97222707  0.34847898 -0.23326087]\n",
      " [ 1.54821737  1.10381296 -0.77445593 -1.04916067 -1.38735855]\n",
      " [ 1.94754295  1.10544381  0.53985911 -0.17394287 -0.77407287]\n",
      " [ 0.86535825  0.7715569   0.70619395  0.43681528 -0.75375532]], shape=(5, 5), dtype=float64)\n"
     ]
    }
   ],
   "source": [
    "print(tf.sort(random_tensor, direction=\"DESCENDING\"))"
   ]
  },
  {
   "cell_type": "markdown",
   "metadata": {},
   "source": [
    "#### Sorting prime_tensor"
   ]
  },
  {
   "cell_type": "code",
   "execution_count": 25,
   "metadata": {},
   "outputs": [
    {
     "name": "stdout",
     "output_type": "stream",
     "text": [
      "tf.Tensor(\n",
      "[[11.  7.  5.  3.  2.]\n",
      " [29. 23. 19. 17. 13.]\n",
      " [47. 43. 41. 37. 31.]\n",
      " [71. 67. 61. 59. 53.]\n",
      " [97. 89. 83. 79. 73.]], shape=(5, 5), dtype=float64)\n"
     ]
    }
   ],
   "source": [
    "print(tf.sort(prime_tensor, direction=\"DESCENDING\"))"
   ]
  }
 ],
 "metadata": {
  "kernelspec": {
   "display_name": "Python 3 (ipykernel)",
   "language": "python",
   "name": "python3"
  },
  "language_info": {
   "codemirror_mode": {
    "name": "ipython",
    "version": 3
   },
   "file_extension": ".py",
   "mimetype": "text/x-python",
   "name": "python",
   "nbconvert_exporter": "python",
   "pygments_lexer": "ipython3",
   "version": "3.10.7"
  },
  "vscode": {
   "interpreter": {
    "hash": "afb734500600fd355917ca529030176ea0ca205570884b88f2f6f7d791fd3fbe"
   }
  }
 },
 "nbformat": 4,
 "nbformat_minor": 2
}
