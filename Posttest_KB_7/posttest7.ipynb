{
 "cells": [
  {
   "cell_type": "markdown",
   "metadata": {},
   "source": [
    "AZIIZAH OKI SHOFRINA <br>\n",
    "2109106004 <br>\n",
    "INFORMATIKA A'21"
   ]
  },
  {
   "cell_type": "markdown",
   "metadata": {},
   "source": [
    "#### Import modul"
   ]
  },
  {
   "cell_type": "code",
   "execution_count": 1,
   "metadata": {},
   "outputs": [],
   "source": [
    "import tensorflow as tf"
   ]
  },
  {
   "cell_type": "markdown",
   "metadata": {},
   "source": [
    "# No. 1\n",
    "### Buatlah sebuah tensor dengan shape (5, 5) dengan nilai random yang disimpan dalam variable random_tensor."
   ]
  },
  {
   "cell_type": "code",
   "execution_count": 2,
   "metadata": {},
   "outputs": [
    {
     "name": "stdout",
     "output_type": "stream",
     "text": [
      "tf.Tensor(\n",
      "[[ 0.15348757  0.31718453  0.1368809  -0.81375546 -0.33750356]\n",
      " [ 1.22319035  0.25452965  1.020339    0.07390402 -1.65791626]\n",
      " [-0.25201924  0.09667212  0.33256044  0.00171237  0.71167608]\n",
      " [-1.20448639 -1.40830545  0.07860516  0.74877475  0.57147299]\n",
      " [ 1.02737392 -0.98152868  0.85023635 -0.88580536  0.22352908]], shape=(5, 5), dtype=float64)\n"
     ]
    }
   ],
   "source": [
    "random_tensor = tf.random.normal([5, 5], dtype=tf.float64)\n",
    "print(random_tensor)"
   ]
  },
  {
   "cell_type": "markdown",
   "metadata": {},
   "source": [
    "# No. 2\n",
    "### Buatlah sebuah tensor dengan shape (5, 5) dari sebuah list dengan nilai bilangan prima dalam variable prime_tensor."
   ]
  },
  {
   "cell_type": "code",
   "execution_count": 3,
   "metadata": {},
   "outputs": [
    {
     "name": "stdout",
     "output_type": "stream",
     "text": [
      "tf.Tensor(\n",
      "[[ 2.  3.  5.  7. 11.]\n",
      " [13. 17. 19. 23. 29.]\n",
      " [31. 37. 41. 43. 47.]\n",
      " [53. 59. 61. 67. 71.]\n",
      " [73. 79. 83. 89. 97.]], shape=(5, 5), dtype=float64)\n"
     ]
    }
   ],
   "source": [
    "prime_tensor = tf.convert_to_tensor(\n",
    "    [[2,  3,  5,  7,  11],\n",
    "     [13, 17, 19, 23, 29],\n",
    "     [31, 37, 41, 43, 47],\n",
    "     [53, 59, 61, 67, 71],\n",
    "     [73, 79, 83, 89, 97]],\n",
    "     dtype=tf.float64\n",
    ")\n",
    "print(prime_tensor)"
   ]
  },
  {
   "cell_type": "markdown",
   "metadata": {},
   "source": [
    "# No. 3\n",
    "### Tampilkan dimensi dari kedua variable tersebut."
   ]
  },
  {
   "cell_type": "markdown",
   "metadata": {},
   "source": [
    "### Dimension Display random_tensor\n",
    "#### Menggunakan .shape"
   ]
  },
  {
   "cell_type": "code",
   "execution_count": 4,
   "metadata": {},
   "outputs": [
    {
     "name": "stdout",
     "output_type": "stream",
     "text": [
      "(5, 5)\n"
     ]
    }
   ],
   "source": [
    "print(random_tensor.shape)"
   ]
  },
  {
   "cell_type": "markdown",
   "metadata": {},
   "source": [
    "#### Menggunakan .get_shape"
   ]
  },
  {
   "cell_type": "code",
   "execution_count": 5,
   "metadata": {},
   "outputs": [
    {
     "name": "stdout",
     "output_type": "stream",
     "text": [
      "<bound method _EagerTensorBase.get_shape of <tf.Tensor: shape=(5, 5), dtype=float64, numpy=\n",
      "array([[ 0.15348757,  0.31718453,  0.1368809 , -0.81375546, -0.33750356],\n",
      "       [ 1.22319035,  0.25452965,  1.020339  ,  0.07390402, -1.65791626],\n",
      "       [-0.25201924,  0.09667212,  0.33256044,  0.00171237,  0.71167608],\n",
      "       [-1.20448639, -1.40830545,  0.07860516,  0.74877475,  0.57147299],\n",
      "       [ 1.02737392, -0.98152868,  0.85023635, -0.88580536,  0.22352908]])>>\n"
     ]
    }
   ],
   "source": [
    "print(random_tensor.get_shape)"
   ]
  },
  {
   "cell_type": "markdown",
   "metadata": {},
   "source": [
    "#### Menggunakan tf.shape()"
   ]
  },
  {
   "cell_type": "code",
   "execution_count": 6,
   "metadata": {},
   "outputs": [
    {
     "name": "stdout",
     "output_type": "stream",
     "text": [
      "tf.Tensor([5 5], shape=(2,), dtype=int32)\n"
     ]
    }
   ],
   "source": [
    "print(tf.shape(random_tensor))"
   ]
  },
  {
   "cell_type": "markdown",
   "metadata": {},
   "source": [
    "### Dimension Display prime_tensor"
   ]
  },
  {
   "cell_type": "markdown",
   "metadata": {},
   "source": [
    "#### Menggunakan .shape"
   ]
  },
  {
   "cell_type": "code",
   "execution_count": 7,
   "metadata": {},
   "outputs": [
    {
     "name": "stdout",
     "output_type": "stream",
     "text": [
      "(5, 5)\n"
     ]
    }
   ],
   "source": [
    "print(prime_tensor.shape)"
   ]
  },
  {
   "cell_type": "markdown",
   "metadata": {},
   "source": [
    "#### Menggunakan .get_shape"
   ]
  },
  {
   "cell_type": "code",
   "execution_count": 8,
   "metadata": {},
   "outputs": [
    {
     "name": "stdout",
     "output_type": "stream",
     "text": [
      "<bound method _EagerTensorBase.get_shape of <tf.Tensor: shape=(5, 5), dtype=float64, numpy=\n",
      "array([[ 2.,  3.,  5.,  7., 11.],\n",
      "       [13., 17., 19., 23., 29.],\n",
      "       [31., 37., 41., 43., 47.],\n",
      "       [53., 59., 61., 67., 71.],\n",
      "       [73., 79., 83., 89., 97.]])>>\n"
     ]
    }
   ],
   "source": [
    "print(prime_tensor.get_shape)"
   ]
  },
  {
   "cell_type": "markdown",
   "metadata": {},
   "source": [
    "#### Menggunakan tf.shape()"
   ]
  },
  {
   "cell_type": "code",
   "execution_count": 9,
   "metadata": {},
   "outputs": [
    {
     "name": "stdout",
     "output_type": "stream",
     "text": [
      "tf.Tensor([5 5], shape=(2,), dtype=int32)\n"
     ]
    }
   ],
   "source": [
    "print(tf.shape(prime_tensor))"
   ]
  },
  {
   "cell_type": "markdown",
   "metadata": {},
   "source": [
    "# No. 4\n",
    "### Tampilkan hasil dari perhitungan aritmetika 2 variable tersebut (Gunakan minimal 5 operator)."
   ]
  },
  {
   "cell_type": "markdown",
   "metadata": {},
   "source": [
    "#### Penjumlahan (tf.add())"
   ]
  },
  {
   "cell_type": "code",
   "execution_count": 10,
   "metadata": {},
   "outputs": [
    {
     "name": "stdout",
     "output_type": "stream",
     "text": [
      "tf.Tensor(\n",
      "[[ 2.15348757  3.31718453  5.1368809   6.18624454 10.66249644]\n",
      " [14.22319035 17.25452965 20.020339   23.07390402 27.34208374]\n",
      " [30.74798076 37.09667212 41.33256044 43.00171237 47.71167608]\n",
      " [51.79551361 57.59169455 61.07860516 67.74877475 71.57147299]\n",
      " [74.02737392 78.01847132 83.85023635 88.11419464 97.22352908]], shape=(5, 5), dtype=float64)\n"
     ]
    }
   ],
   "source": [
    "print(tf.add(random_tensor, prime_tensor))"
   ]
  },
  {
   "cell_type": "markdown",
   "metadata": {},
   "source": [
    "#### Pengurangan (tf.subtract())"
   ]
  },
  {
   "cell_type": "code",
   "execution_count": 11,
   "metadata": {},
   "outputs": [
    {
     "name": "stdout",
     "output_type": "stream",
     "text": [
      "tf.Tensor(\n",
      "[[ -1.84651243  -2.68281547  -4.8631191   -7.81375546 -11.33750356]\n",
      " [-11.77680965 -16.74547035 -17.979661   -22.92609598 -30.65791626]\n",
      " [-31.25201924 -36.90332788 -40.66743956 -42.99828763 -46.28832392]\n",
      " [-54.20448639 -60.40830545 -60.92139484 -66.25122525 -70.42852701]\n",
      " [-71.97262608 -79.98152868 -82.14976365 -89.88580536 -96.77647092]], shape=(5, 5), dtype=float64)\n"
     ]
    }
   ],
   "source": [
    "print(tf.subtract(random_tensor, prime_tensor))"
   ]
  },
  {
   "cell_type": "markdown",
   "metadata": {},
   "source": [
    "#### Perkalian (tf.multiply())"
   ]
  },
  {
   "cell_type": "code",
   "execution_count": 12,
   "metadata": {},
   "outputs": [
    {
     "name": "stdout",
     "output_type": "stream",
     "text": [
      "tf.Tensor(\n",
      "[[ 3.06975130e-01  9.51553588e-01  6.84404506e-01 -5.69628821e+00\n",
      "  -3.71253917e+00]\n",
      " [ 1.59014746e+01  4.32700402e+00  1.93864411e+01  1.69979244e+00\n",
      "  -4.80795715e+01]\n",
      " [-7.81259654e+00  3.57686839e+00  1.36349779e+01  7.36321201e-02\n",
      "   3.34487757e+01]\n",
      " [-6.38377788e+01 -8.30900215e+01  4.79491504e+00  5.01679083e+01\n",
      "   4.05745824e+01]\n",
      " [ 7.49982963e+01 -7.75407655e+01  7.05696170e+01 -7.88366767e+01\n",
      "   2.16823204e+01]], shape=(5, 5), dtype=float64)\n"
     ]
    }
   ],
   "source": [
    "print(tf.multiply(random_tensor, prime_tensor))"
   ]
  },
  {
   "cell_type": "markdown",
   "metadata": {},
   "source": [
    "#### Pembagian (tf.divide())"
   ]
  },
  {
   "cell_type": "code",
   "execution_count": 13,
   "metadata": {},
   "outputs": [
    {
     "name": "stdout",
     "output_type": "stream",
     "text": [
      "tf.Tensor(\n",
      "[[ 7.67437826e-02  1.05728176e-01  2.73761802e-02 -1.16250780e-01\n",
      "  -3.06821419e-02]\n",
      " [ 9.40915657e-02  1.49723322e-02  5.37020528e-02  3.21321823e-03\n",
      "  -5.71695262e-02]\n",
      " [-8.12965300e-03  2.61275996e-03  8.11123016e-03  3.98226718e-05\n",
      "   1.51420442e-02]\n",
      " [-2.27261584e-02 -2.38695839e-02  1.28860925e-03  1.11757425e-02\n",
      "   8.04891537e-03]\n",
      " [ 1.40736154e-02 -1.24244136e-02  1.02438114e-02 -9.95286918e-03\n",
      "   2.30442346e-03]], shape=(5, 5), dtype=float64)\n"
     ]
    }
   ],
   "source": [
    "print(tf.divide(random_tensor, prime_tensor))"
   ]
  },
  {
   "cell_type": "markdown",
   "metadata": {},
   "source": [
    "#### Pangkat (tf.pow())"
   ]
  },
  {
   "cell_type": "code",
   "execution_count": 14,
   "metadata": {},
   "outputs": [
    {
     "name": "stdout",
     "output_type": "stream",
     "text": [
      "tf.Tensor(\n",
      "[[ 2.35584327e-002  3.19106749e-002  4.80523109e-005 -2.36296562e-001\n",
      "  -6.47234946e-006]\n",
      " [ 1.37221644e+001  7.89864167e-011  1.46603818e+000  9.53598022e-027\n",
      "  -2.32978118e+006]\n",
      " [-2.78256161e-019  2.85854966e-038  2.49283685e-020  1.10853791e-119\n",
      "   1.14096237e-007]\n",
      " [-1.91646374e+004 -5.93081985e+008  4.19291385e-068  3.81530963e-009\n",
      "   5.58078617e-018]\n",
      " [ 7.18097202e+000 -2.29264299e-001  1.41837950e-006 -2.05640617e-005\n",
      "   7.68068932e-064]], shape=(5, 5), dtype=float64)\n"
     ]
    }
   ],
   "source": [
    "print(tf.pow(random_tensor, prime_tensor))"
   ]
  },
  {
   "cell_type": "markdown",
   "metadata": {},
   "source": [
    "#### Logaritma (tf.math.log())"
   ]
  },
  {
   "cell_type": "code",
   "execution_count": 15,
   "metadata": {},
   "outputs": [
    {
     "name": "stdout",
     "output_type": "stream",
     "text": [
      "tf.Tensor(\n",
      "[[-1.87413572 -1.14827156 -1.98864407         nan         nan]\n",
      " [ 0.20146249 -1.36833795  0.02013493 -2.60498806         nan]\n",
      " [        nan -2.33643025 -1.10093367 -6.36987405 -0.34013242]\n",
      " [        nan         nan -2.54331788 -0.28931707 -0.55953806]\n",
      " [ 0.02700596         nan -0.16224091         nan -1.49821378]], shape=(5, 5), dtype=float64)\n"
     ]
    }
   ],
   "source": [
    "print(tf.math.log(random_tensor, prime_tensor))"
   ]
  },
  {
   "cell_type": "markdown",
   "metadata": {},
   "source": [
    "# No. 5\n",
    "### Tampilkan nilai maksimum dan minimum dari variable random_tensor."
   ]
  },
  {
   "cell_type": "markdown",
   "metadata": {},
   "source": [
    "#### Nilai maksimum dari kolom"
   ]
  },
  {
   "cell_type": "code",
   "execution_count": 16,
   "metadata": {},
   "outputs": [
    {
     "name": "stdout",
     "output_type": "stream",
     "text": [
      "tf.Tensor([1 0 1 3 2], shape=(5,), dtype=int64)\n"
     ]
    }
   ],
   "source": [
    "print(tf.argmax(random_tensor, axis=0))"
   ]
  },
  {
   "cell_type": "markdown",
   "metadata": {},
   "source": [
    "#### Nilai maksimum dari baris"
   ]
  },
  {
   "cell_type": "code",
   "execution_count": 17,
   "metadata": {},
   "outputs": [
    {
     "name": "stdout",
     "output_type": "stream",
     "text": [
      "tf.Tensor([1 0 4 3 0], shape=(5,), dtype=int64)\n"
     ]
    }
   ],
   "source": [
    "print(tf.argmax(random_tensor, axis=1))"
   ]
  },
  {
   "cell_type": "markdown",
   "metadata": {},
   "source": [
    "#### Nilai minimum dari kolom"
   ]
  },
  {
   "cell_type": "code",
   "execution_count": 18,
   "metadata": {},
   "outputs": [
    {
     "name": "stdout",
     "output_type": "stream",
     "text": [
      "tf.Tensor([3 3 3 4 1], shape=(5,), dtype=int64)\n"
     ]
    }
   ],
   "source": [
    "print(tf.argmin(random_tensor, axis=0))"
   ]
  },
  {
   "cell_type": "markdown",
   "metadata": {},
   "source": [
    "#### Nilai minimum dari baris"
   ]
  },
  {
   "cell_type": "code",
   "execution_count": 19,
   "metadata": {},
   "outputs": [
    {
     "name": "stdout",
     "output_type": "stream",
     "text": [
      "tf.Tensor([3 4 0 1 1], shape=(5,), dtype=int64)\n"
     ]
    }
   ],
   "source": [
    "print(tf.argmin(random_tensor, axis=1))"
   ]
  },
  {
   "cell_type": "markdown",
   "metadata": {},
   "source": [
    "# No. 6\n",
    "### Tampilkan hasil dari penggabungan variable random_tensor dengan prime_tensor (concatenation)"
   ]
  },
  {
   "cell_type": "markdown",
   "metadata": {},
   "source": [
    "#### Hasil penggabungan berdasarkan dimensi kolom"
   ]
  },
  {
   "cell_type": "code",
   "execution_count": 20,
   "metadata": {},
   "outputs": [
    {
     "name": "stdout",
     "output_type": "stream",
     "text": [
      "tf.Tensor(\n",
      "[[ 1.53487565e-01  3.17184529e-01  1.36880901e-01 -8.13755458e-01\n",
      "  -3.37503561e-01]\n",
      " [ 1.22319035e+00  2.54529648e-01  1.02033900e+00  7.39040193e-02\n",
      "  -1.65791626e+00]\n",
      " [-2.52019243e-01  9.66721186e-02  3.32560437e-01  1.71237489e-03\n",
      "   7.11676079e-01]\n",
      " [-1.20448639e+00 -1.40830545e+00  7.86051645e-02  7.48774750e-01\n",
      "   5.71472991e-01]\n",
      " [ 1.02737392e+00 -9.81528677e-01  8.50236349e-01 -8.85805357e-01\n",
      "   2.23529076e-01]\n",
      " [ 2.00000000e+00  3.00000000e+00  5.00000000e+00  7.00000000e+00\n",
      "   1.10000000e+01]\n",
      " [ 1.30000000e+01  1.70000000e+01  1.90000000e+01  2.30000000e+01\n",
      "   2.90000000e+01]\n",
      " [ 3.10000000e+01  3.70000000e+01  4.10000000e+01  4.30000000e+01\n",
      "   4.70000000e+01]\n",
      " [ 5.30000000e+01  5.90000000e+01  6.10000000e+01  6.70000000e+01\n",
      "   7.10000000e+01]\n",
      " [ 7.30000000e+01  7.90000000e+01  8.30000000e+01  8.90000000e+01\n",
      "   9.70000000e+01]], shape=(10, 5), dtype=float64)\n"
     ]
    }
   ],
   "source": [
    "hasil_concat = tf.concat(\n",
    "    [random_tensor, prime_tensor],\n",
    "    axis=0\n",
    ")\n",
    "print(hasil_concat)"
   ]
  },
  {
   "cell_type": "markdown",
   "metadata": {},
   "source": [
    "#### Dimensi hasil penggabungan di kolom"
   ]
  },
  {
   "cell_type": "code",
   "execution_count": 21,
   "metadata": {},
   "outputs": [
    {
     "name": "stdout",
     "output_type": "stream",
     "text": [
      "(10, 5)\n"
     ]
    }
   ],
   "source": [
    "print(hasil_concat.shape)"
   ]
  },
  {
   "cell_type": "markdown",
   "metadata": {},
   "source": [
    "#### Hasil penggabungan berdasarkan dimensi baris"
   ]
  },
  {
   "cell_type": "code",
   "execution_count": 22,
   "metadata": {},
   "outputs": [
    {
     "name": "stdout",
     "output_type": "stream",
     "text": [
      "tf.Tensor(\n",
      "[[ 1.53487565e-01  3.17184529e-01  1.36880901e-01 -8.13755458e-01\n",
      "  -3.37503561e-01  2.00000000e+00  3.00000000e+00  5.00000000e+00\n",
      "   7.00000000e+00  1.10000000e+01]\n",
      " [ 1.22319035e+00  2.54529648e-01  1.02033900e+00  7.39040193e-02\n",
      "  -1.65791626e+00  1.30000000e+01  1.70000000e+01  1.90000000e+01\n",
      "   2.30000000e+01  2.90000000e+01]\n",
      " [-2.52019243e-01  9.66721186e-02  3.32560437e-01  1.71237489e-03\n",
      "   7.11676079e-01  3.10000000e+01  3.70000000e+01  4.10000000e+01\n",
      "   4.30000000e+01  4.70000000e+01]\n",
      " [-1.20448639e+00 -1.40830545e+00  7.86051645e-02  7.48774750e-01\n",
      "   5.71472991e-01  5.30000000e+01  5.90000000e+01  6.10000000e+01\n",
      "   6.70000000e+01  7.10000000e+01]\n",
      " [ 1.02737392e+00 -9.81528677e-01  8.50236349e-01 -8.85805357e-01\n",
      "   2.23529076e-01  7.30000000e+01  7.90000000e+01  8.30000000e+01\n",
      "   8.90000000e+01  9.70000000e+01]], shape=(5, 10), dtype=float64)\n"
     ]
    }
   ],
   "source": [
    "hasil_concat = tf.concat(\n",
    "    [random_tensor, prime_tensor],\n",
    "    axis=1\n",
    ")\n",
    "print(hasil_concat)"
   ]
  },
  {
   "cell_type": "markdown",
   "metadata": {},
   "source": [
    "#### Dimensi hasil penggabungan di baris"
   ]
  },
  {
   "cell_type": "code",
   "execution_count": 23,
   "metadata": {},
   "outputs": [
    {
     "name": "stdout",
     "output_type": "stream",
     "text": [
      "(5, 10)\n"
     ]
    }
   ],
   "source": [
    "print(hasil_concat.shape)\n"
   ]
  },
  {
   "cell_type": "markdown",
   "metadata": {},
   "source": [
    "# No. 7\n",
    "### Tampilkan hasil sorting dari kedua variable di atas (descending)."
   ]
  },
  {
   "cell_type": "markdown",
   "metadata": {},
   "source": [
    "#### Sorting random_tensor"
   ]
  },
  {
   "cell_type": "code",
   "execution_count": 24,
   "metadata": {},
   "outputs": [
    {
     "name": "stdout",
     "output_type": "stream",
     "text": [
      "tf.Tensor(\n",
      "[[ 0.31718453  0.15348757  0.1368809  -0.33750356 -0.81375546]\n",
      " [ 1.22319035  1.020339    0.25452965  0.07390402 -1.65791626]\n",
      " [ 0.71167608  0.33256044  0.09667212  0.00171237 -0.25201924]\n",
      " [ 0.74877475  0.57147299  0.07860516 -1.20448639 -1.40830545]\n",
      " [ 1.02737392  0.85023635  0.22352908 -0.88580536 -0.98152868]], shape=(5, 5), dtype=float64)\n"
     ]
    }
   ],
   "source": [
    "print(tf.sort(random_tensor, direction=\"DESCENDING\"))"
   ]
  },
  {
   "cell_type": "markdown",
   "metadata": {},
   "source": [
    "#### Sorting prime_tensor"
   ]
  },
  {
   "cell_type": "code",
   "execution_count": 25,
   "metadata": {},
   "outputs": [
    {
     "name": "stdout",
     "output_type": "stream",
     "text": [
      "tf.Tensor(\n",
      "[[11.  7.  5.  3.  2.]\n",
      " [29. 23. 19. 17. 13.]\n",
      " [47. 43. 41. 37. 31.]\n",
      " [71. 67. 61. 59. 53.]\n",
      " [97. 89. 83. 79. 73.]], shape=(5, 5), dtype=float64)\n"
     ]
    }
   ],
   "source": [
    "print(tf.sort(prime_tensor, direction=\"DESCENDING\"))"
   ]
  }
 ],
 "metadata": {
  "kernelspec": {
   "display_name": "Python 3 (ipykernel)",
   "language": "python",
   "name": "python3"
  },
  "language_info": {
   "codemirror_mode": {
    "name": "ipython",
    "version": 3
   },
   "file_extension": ".py",
   "mimetype": "text/x-python",
   "name": "python",
   "nbconvert_exporter": "python",
   "pygments_lexer": "ipython3",
   "version": "3.10.7"
  },
  "vscode": {
   "interpreter": {
    "hash": "afb734500600fd355917ca529030176ea0ca205570884b88f2f6f7d791fd3fbe"
   }
  }
 },
 "nbformat": 4,
 "nbformat_minor": 2
}
