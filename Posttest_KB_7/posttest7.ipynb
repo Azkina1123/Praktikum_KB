{
 "cells": [
  {
   "cell_type": "markdown",
   "metadata": {},
   "source": [
    "AZIIZAH OKI SHOFRINA <br>\n",
    "2109106004 <br>\n",
    "INFORMATIKA A'21"
   ]
  },
  {
   "cell_type": "markdown",
   "metadata": {},
   "source": [
    "#### Import modul"
   ]
  },
  {
   "cell_type": "code",
   "execution_count": 1,
   "metadata": {},
   "outputs": [],
   "source": [
    "import tensorflow as tf"
   ]
  },
  {
   "cell_type": "markdown",
   "metadata": {},
   "source": [
    "# No. 1\n",
    "### Buatlah sebuah tensor dengan shape (5, 5) dengan nilai random yang disimpan dalam variable random_tensor."
   ]
  },
  {
   "cell_type": "code",
   "execution_count": 2,
   "metadata": {},
   "outputs": [
    {
     "data": {
      "text/plain": [
       "<tf.Tensor: shape=(5, 5), dtype=float64, numpy=\n",
       "array([[ 1.28487729, -0.80799284,  0.28740661, -0.59635212, -0.35390189],\n",
       "       [-0.16313212,  1.66439882,  1.34767726, -0.19060832, -0.20503531],\n",
       "       [-0.84975082,  0.81756306, -0.54036268, -0.80801716, -1.11108208],\n",
       "       [ 0.64418041,  1.01724695, -0.63694441, -0.23742979, -0.60647045],\n",
       "       [ 2.48886485, -0.08606235, -0.78910074, -0.6377799 ,  1.11889344]])>"
      ]
     },
     "execution_count": 2,
     "metadata": {},
     "output_type": "execute_result"
    }
   ],
   "source": [
    "random_tensor = tf.random.normal([5, 5], dtype=tf.float64)\n",
    "random_tensor"
   ]
  },
  {
   "cell_type": "markdown",
   "metadata": {},
   "source": [
    "# No. 2\n",
    "### Buatlah sebuah tensor dengan shape (5, 5) dari sebuah list dengan nilai bilangan prima dalam variable prime_tensor."
   ]
  },
  {
   "cell_type": "code",
   "execution_count": 3,
   "metadata": {},
   "outputs": [
    {
     "data": {
      "text/plain": [
       "<tf.Tensor: shape=(5, 5), dtype=float64, numpy=\n",
       "array([[ 2.,  3.,  5.,  7., 11.],\n",
       "       [13., 17., 19., 23., 29.],\n",
       "       [31., 37., 41., 43., 47.],\n",
       "       [53., 59., 61., 67., 71.],\n",
       "       [73., 79., 83., 89., 97.]])>"
      ]
     },
     "execution_count": 3,
     "metadata": {},
     "output_type": "execute_result"
    }
   ],
   "source": [
    "prime_tensor = tf.convert_to_tensor(\n",
    "    [[2,  3,  5,  7,  11],\n",
    "     [13, 17, 19, 23, 29],\n",
    "     [31, 37, 41, 43, 47],\n",
    "     [53, 59, 61, 67, 71],\n",
    "     [73, 79, 83, 89, 97]],\n",
    "     dtype=tf.float64\n",
    ")\n",
    "prime_tensor"
   ]
  },
  {
   "cell_type": "markdown",
   "metadata": {},
   "source": [
    "# No. 3\n",
    "### Tampilkan dimensi dari kedua variable tersebut."
   ]
  },
  {
   "cell_type": "markdown",
   "metadata": {},
   "source": [
    "### Dimension Display random_tensor\n",
    "#### Menggunakan .shape"
   ]
  },
  {
   "cell_type": "code",
   "execution_count": 4,
   "metadata": {},
   "outputs": [
    {
     "data": {
      "text/plain": [
       "TensorShape([5, 5])"
      ]
     },
     "execution_count": 4,
     "metadata": {},
     "output_type": "execute_result"
    }
   ],
   "source": [
    "random_tensor.shape"
   ]
  },
  {
   "cell_type": "markdown",
   "metadata": {},
   "source": [
    "#### Menggunakan .get_shape"
   ]
  },
  {
   "cell_type": "code",
   "execution_count": 5,
   "metadata": {},
   "outputs": [
    {
     "data": {
      "text/plain": [
       "<bound method _EagerTensorBase.get_shape of <tf.Tensor: shape=(5, 5), dtype=float64, numpy=\n",
       "array([[ 1.28487729, -0.80799284,  0.28740661, -0.59635212, -0.35390189],\n",
       "       [-0.16313212,  1.66439882,  1.34767726, -0.19060832, -0.20503531],\n",
       "       [-0.84975082,  0.81756306, -0.54036268, -0.80801716, -1.11108208],\n",
       "       [ 0.64418041,  1.01724695, -0.63694441, -0.23742979, -0.60647045],\n",
       "       [ 2.48886485, -0.08606235, -0.78910074, -0.6377799 ,  1.11889344]])>>"
      ]
     },
     "execution_count": 5,
     "metadata": {},
     "output_type": "execute_result"
    }
   ],
   "source": [
    "random_tensor.get_shape"
   ]
  },
  {
   "cell_type": "markdown",
   "metadata": {},
   "source": [
    "#### Menggunakan tf.shape()"
   ]
  },
  {
   "cell_type": "code",
   "execution_count": 6,
   "metadata": {},
   "outputs": [
    {
     "data": {
      "text/plain": [
       "<tf.Tensor: shape=(2,), dtype=int32, numpy=array([5, 5])>"
      ]
     },
     "execution_count": 6,
     "metadata": {},
     "output_type": "execute_result"
    }
   ],
   "source": [
    "tf.shape(random_tensor)"
   ]
  },
  {
   "cell_type": "markdown",
   "metadata": {},
   "source": [
    "### Dimension Display prime_tensor"
   ]
  },
  {
   "cell_type": "markdown",
   "metadata": {},
   "source": [
    "#### Menggunakan .shape"
   ]
  },
  {
   "cell_type": "code",
   "execution_count": 7,
   "metadata": {},
   "outputs": [
    {
     "data": {
      "text/plain": [
       "TensorShape([5, 5])"
      ]
     },
     "execution_count": 7,
     "metadata": {},
     "output_type": "execute_result"
    }
   ],
   "source": [
    "prime_tensor.shape"
   ]
  },
  {
   "cell_type": "markdown",
   "metadata": {},
   "source": [
    "#### Menggunakan .get_shape"
   ]
  },
  {
   "cell_type": "code",
   "execution_count": 8,
   "metadata": {},
   "outputs": [
    {
     "data": {
      "text/plain": [
       "<bound method _EagerTensorBase.get_shape of <tf.Tensor: shape=(5, 5), dtype=float64, numpy=\n",
       "array([[ 2.,  3.,  5.,  7., 11.],\n",
       "       [13., 17., 19., 23., 29.],\n",
       "       [31., 37., 41., 43., 47.],\n",
       "       [53., 59., 61., 67., 71.],\n",
       "       [73., 79., 83., 89., 97.]])>>"
      ]
     },
     "execution_count": 8,
     "metadata": {},
     "output_type": "execute_result"
    }
   ],
   "source": [
    "prime_tensor.get_shape"
   ]
  },
  {
   "cell_type": "markdown",
   "metadata": {},
   "source": [
    "#### Menggunakan tf.shape()"
   ]
  },
  {
   "cell_type": "code",
   "execution_count": 9,
   "metadata": {},
   "outputs": [
    {
     "data": {
      "text/plain": [
       "<tf.Tensor: shape=(2,), dtype=int32, numpy=array([5, 5])>"
      ]
     },
     "execution_count": 9,
     "metadata": {},
     "output_type": "execute_result"
    }
   ],
   "source": [
    "tf.shape(prime_tensor)"
   ]
  },
  {
   "cell_type": "markdown",
   "metadata": {},
   "source": [
    "# No. 4\n",
    "### Tampilkan hasil dari perhitungan aritmetika 2 variable tersebut (Gunakan minimal 5 operator)."
   ]
  },
  {
   "cell_type": "markdown",
   "metadata": {},
   "source": [
    "#### Penjumlahan (tf.add())"
   ]
  },
  {
   "cell_type": "code",
   "execution_count": 10,
   "metadata": {},
   "outputs": [
    {
     "data": {
      "text/plain": [
       "<tf.Tensor: shape=(5, 5), dtype=float64, numpy=\n",
       "array([[ 3.28487729,  2.19200716,  5.28740661,  6.40364788, 10.64609811],\n",
       "       [12.83686788, 18.66439882, 20.34767726, 22.80939168, 28.79496469],\n",
       "       [30.15024918, 37.81756306, 40.45963732, 42.19198284, 45.88891792],\n",
       "       [53.64418041, 60.01724695, 60.36305559, 66.76257021, 70.39352955],\n",
       "       [75.48886485, 78.91393765, 82.21089926, 88.3622201 , 98.11889344]])>"
      ]
     },
     "execution_count": 10,
     "metadata": {},
     "output_type": "execute_result"
    }
   ],
   "source": [
    "tf.add(random_tensor, prime_tensor)"
   ]
  },
  {
   "cell_type": "markdown",
   "metadata": {},
   "source": [
    "#### Pengurangan (tf.subtract())"
   ]
  },
  {
   "cell_type": "code",
   "execution_count": 11,
   "metadata": {},
   "outputs": [
    {
     "data": {
      "text/plain": [
       "<tf.Tensor: shape=(5, 5), dtype=float64, numpy=\n",
       "array([[ -0.71512271,  -3.80799284,  -4.71259339,  -7.59635212,\n",
       "        -11.35390189],\n",
       "       [-13.16313212, -15.33560118, -17.65232274, -23.19060832,\n",
       "        -29.20503531],\n",
       "       [-31.84975082, -36.18243694, -41.54036268, -43.80801716,\n",
       "        -48.11108208],\n",
       "       [-52.35581959, -57.98275305, -61.63694441, -67.23742979,\n",
       "        -71.60647045],\n",
       "       [-70.51113515, -79.08606235, -83.78910074, -89.6377799 ,\n",
       "        -95.88110656]])>"
      ]
     },
     "execution_count": 11,
     "metadata": {},
     "output_type": "execute_result"
    }
   ],
   "source": [
    "tf.subtract(random_tensor, prime_tensor)"
   ]
  },
  {
   "cell_type": "markdown",
   "metadata": {},
   "source": [
    "#### Perkalian (tf.multiply())"
   ]
  },
  {
   "cell_type": "code",
   "execution_count": 12,
   "metadata": {},
   "outputs": [
    {
     "data": {
      "text/plain": [
       "<tf.Tensor: shape=(5, 5), dtype=float64, numpy=\n",
       "array([[  2.56975458,  -2.42397852,   1.43703305,  -4.17446482,\n",
       "         -3.89292078],\n",
       "       [ -2.12071761,  28.29477988,  25.60586786,  -4.38399141,\n",
       "         -5.94602396],\n",
       "       [-26.34227554,  30.24983311, -22.15486995, -34.74473771,\n",
       "        -52.22085755],\n",
       "       [ 34.14156174,  60.01756986, -38.85360909, -15.90779623,\n",
       "        -43.05940184],\n",
       "       [181.68713425,  -6.79892584, -65.49536166, -56.76241126,\n",
       "        108.53266329]])>"
      ]
     },
     "execution_count": 12,
     "metadata": {},
     "output_type": "execute_result"
    }
   ],
   "source": [
    "tf.multiply(random_tensor, prime_tensor)"
   ]
  },
  {
   "cell_type": "markdown",
   "metadata": {},
   "source": [
    "#### Pembagian (tf.divide())"
   ]
  },
  {
   "cell_type": "code",
   "execution_count": 13,
   "metadata": {},
   "outputs": [
    {
     "data": {
      "text/plain": [
       "<tf.Tensor: shape=(5, 5), dtype=float64, numpy=\n",
       "array([[ 0.64243865, -0.26933095,  0.05748132, -0.08519316, -0.0321729 ],\n",
       "       [-0.01254862,  0.09790581,  0.07093038, -0.00828732, -0.00707018],\n",
       "       [-0.02741132,  0.0220963 , -0.01317958, -0.0187911 , -0.02364004],\n",
       "       [ 0.01215435,  0.01724147, -0.01044171, -0.00354373, -0.00854184],\n",
       "       [ 0.03409404, -0.0010894 , -0.00950724, -0.00716607,  0.01153498]])>"
      ]
     },
     "execution_count": 13,
     "metadata": {},
     "output_type": "execute_result"
    }
   ],
   "source": [
    "tf.divide(random_tensor, prime_tensor)"
   ]
  },
  {
   "cell_type": "markdown",
   "metadata": {},
   "source": [
    "#### Pangkat (tf.pow())"
   ]
  },
  {
   "cell_type": "code",
   "execution_count": 14,
   "metadata": {},
   "outputs": [
    {
     "data": {
      "text/plain": [
       "<tf.Tensor: shape=(5, 5), dtype=float64, numpy=\n",
       "array([[ 1.65090966e+00, -5.27500091e-01,  1.96102786e-03,\n",
       "        -2.68237417e-02, -1.09071601e-05],\n",
       "       [-5.79446525e-11,  5.77265722e+03,  2.89822489e+02,\n",
       "        -2.77499848e-17, -1.10415754e-20],\n",
       "       [-6.42746059e-03,  5.79811170e-04, -1.09672888e-11,\n",
       "        -1.04492476e-04, -1.41276084e+02],\n",
       "       [ 7.54046664e-11,  2.74256736e+00, -1.12251825e-12,\n",
       "        -1.44830325e-42, -3.79738568e-16],\n",
       "       [ 8.09274721e+28, -7.08343301e-85, -2.89730046e-09,\n",
       "        -4.12765898e-18,  5.40140110e+04]])>"
      ]
     },
     "execution_count": 14,
     "metadata": {},
     "output_type": "execute_result"
    }
   ],
   "source": [
    "tf.pow(random_tensor, prime_tensor)"
   ]
  },
  {
   "cell_type": "markdown",
   "metadata": {},
   "source": [
    "#### Logaritma (tf.math.log())"
   ]
  },
  {
   "cell_type": "code",
   "execution_count": 15,
   "metadata": {},
   "outputs": [
    {
     "data": {
      "text/plain": [
       "<tf.Tensor: shape=(5, 5), dtype=float64, numpy=\n",
       "array([[ 0.25066322,         nan, -1.24685731,         nan,         nan],\n",
       "       [        nan,  0.50946399,  0.29838256,         nan,         nan],\n",
       "       [        nan, -0.20142725,         nan,         nan,         nan],\n",
       "       [-0.43977645,  0.01709991,         nan,         nan,         nan],\n",
       "       [ 0.91182672,         nan,         nan,         nan,  0.11234019]])>"
      ]
     },
     "execution_count": 15,
     "metadata": {},
     "output_type": "execute_result"
    }
   ],
   "source": [
    "tf.math.log(random_tensor, prime_tensor)"
   ]
  },
  {
   "cell_type": "markdown",
   "metadata": {},
   "source": [
    "# No. 5\n",
    "### Tampilkan nilai maksimum dan minimum dari variable random_tensor."
   ]
  },
  {
   "cell_type": "markdown",
   "metadata": {},
   "source": [
    "#### Nilai maksimum dari kolom"
   ]
  },
  {
   "cell_type": "code",
   "execution_count": 16,
   "metadata": {},
   "outputs": [
    {
     "data": {
      "text/plain": [
       "<tf.Tensor: shape=(5,), dtype=int64, numpy=array([4, 1, 1, 1, 4], dtype=int64)>"
      ]
     },
     "execution_count": 16,
     "metadata": {},
     "output_type": "execute_result"
    }
   ],
   "source": [
    "tf.argmax(random_tensor, axis=0)"
   ]
  },
  {
   "cell_type": "markdown",
   "metadata": {},
   "source": [
    "#### Nilai maksimum dari baris"
   ]
  },
  {
   "cell_type": "code",
   "execution_count": 17,
   "metadata": {},
   "outputs": [
    {
     "data": {
      "text/plain": [
       "<tf.Tensor: shape=(5,), dtype=int64, numpy=array([0, 1, 1, 1, 0], dtype=int64)>"
      ]
     },
     "execution_count": 17,
     "metadata": {},
     "output_type": "execute_result"
    }
   ],
   "source": [
    "tf.argmax(random_tensor, axis=1)"
   ]
  },
  {
   "cell_type": "markdown",
   "metadata": {},
   "source": [
    "#### Nilai minimum dari kolom"
   ]
  },
  {
   "cell_type": "code",
   "execution_count": 18,
   "metadata": {},
   "outputs": [
    {
     "data": {
      "text/plain": [
       "<tf.Tensor: shape=(5,), dtype=int64, numpy=array([2, 0, 4, 2, 2], dtype=int64)>"
      ]
     },
     "execution_count": 18,
     "metadata": {},
     "output_type": "execute_result"
    }
   ],
   "source": [
    "tf.argmin(random_tensor, axis=0)"
   ]
  },
  {
   "cell_type": "markdown",
   "metadata": {},
   "source": [
    "#### Nilai minimum dari baris"
   ]
  },
  {
   "cell_type": "code",
   "execution_count": 19,
   "metadata": {},
   "outputs": [
    {
     "data": {
      "text/plain": [
       "<tf.Tensor: shape=(5,), dtype=int64, numpy=array([1, 4, 4, 2, 2], dtype=int64)>"
      ]
     },
     "execution_count": 19,
     "metadata": {},
     "output_type": "execute_result"
    }
   ],
   "source": [
    "tf.argmin(random_tensor, axis=1)"
   ]
  },
  {
   "cell_type": "markdown",
   "metadata": {},
   "source": [
    "# No. 6\n",
    "### Tampilkan hasil dari penggabungan variable random_tensor dengan prime_tensor (concatenation)"
   ]
  },
  {
   "cell_type": "markdown",
   "metadata": {},
   "source": [
    "#### Hasil penggabungan berdasarkan dimensi kolom"
   ]
  },
  {
   "cell_type": "code",
   "execution_count": 20,
   "metadata": {},
   "outputs": [
    {
     "data": {
      "text/plain": [
       "<tf.Tensor: shape=(10, 5), dtype=float64, numpy=\n",
       "array([[ 1.28487729e+00, -8.07992841e-01,  2.87406610e-01,\n",
       "        -5.96352117e-01, -3.53901889e-01],\n",
       "       [-1.63132123e-01,  1.66439882e+00,  1.34767726e+00,\n",
       "        -1.90608322e-01, -2.05035309e-01],\n",
       "       [-8.49750824e-01,  8.17563057e-01, -5.40362682e-01,\n",
       "        -8.08017156e-01, -1.11108208e+00],\n",
       "       [ 6.44180410e-01,  1.01724695e+00, -6.36944411e-01,\n",
       "        -2.37429794e-01, -6.06470448e-01],\n",
       "       [ 2.48886485e+00, -8.60623524e-02, -7.89100743e-01,\n",
       "        -6.37779902e-01,  1.11889344e+00],\n",
       "       [ 2.00000000e+00,  3.00000000e+00,  5.00000000e+00,\n",
       "         7.00000000e+00,  1.10000000e+01],\n",
       "       [ 1.30000000e+01,  1.70000000e+01,  1.90000000e+01,\n",
       "         2.30000000e+01,  2.90000000e+01],\n",
       "       [ 3.10000000e+01,  3.70000000e+01,  4.10000000e+01,\n",
       "         4.30000000e+01,  4.70000000e+01],\n",
       "       [ 5.30000000e+01,  5.90000000e+01,  6.10000000e+01,\n",
       "         6.70000000e+01,  7.10000000e+01],\n",
       "       [ 7.30000000e+01,  7.90000000e+01,  8.30000000e+01,\n",
       "         8.90000000e+01,  9.70000000e+01]])>"
      ]
     },
     "execution_count": 20,
     "metadata": {},
     "output_type": "execute_result"
    }
   ],
   "source": [
    "hasil_concat = tf.concat(\n",
    "    [random_tensor, prime_tensor],\n",
    "    axis=0\n",
    ")\n",
    "hasil_concat"
   ]
  },
  {
   "cell_type": "markdown",
   "metadata": {},
   "source": [
    "#### Dimensi hasil penggabungan di kolom"
   ]
  },
  {
   "cell_type": "code",
   "execution_count": 21,
   "metadata": {},
   "outputs": [
    {
     "data": {
      "text/plain": [
       "TensorShape([10, 5])"
      ]
     },
     "execution_count": 21,
     "metadata": {},
     "output_type": "execute_result"
    }
   ],
   "source": [
    "hasil_concat.shape"
   ]
  },
  {
   "cell_type": "markdown",
   "metadata": {},
   "source": [
    "#### Hasil penggabungan berdasarkan dimensi baris"
   ]
  },
  {
   "cell_type": "code",
   "execution_count": 22,
   "metadata": {},
   "outputs": [
    {
     "data": {
      "text/plain": [
       "<tf.Tensor: shape=(5, 10), dtype=float64, numpy=\n",
       "array([[ 1.28487729e+00, -8.07992841e-01,  2.87406610e-01,\n",
       "        -5.96352117e-01, -3.53901889e-01,  2.00000000e+00,\n",
       "         3.00000000e+00,  5.00000000e+00,  7.00000000e+00,\n",
       "         1.10000000e+01],\n",
       "       [-1.63132123e-01,  1.66439882e+00,  1.34767726e+00,\n",
       "        -1.90608322e-01, -2.05035309e-01,  1.30000000e+01,\n",
       "         1.70000000e+01,  1.90000000e+01,  2.30000000e+01,\n",
       "         2.90000000e+01],\n",
       "       [-8.49750824e-01,  8.17563057e-01, -5.40362682e-01,\n",
       "        -8.08017156e-01, -1.11108208e+00,  3.10000000e+01,\n",
       "         3.70000000e+01,  4.10000000e+01,  4.30000000e+01,\n",
       "         4.70000000e+01],\n",
       "       [ 6.44180410e-01,  1.01724695e+00, -6.36944411e-01,\n",
       "        -2.37429794e-01, -6.06470448e-01,  5.30000000e+01,\n",
       "         5.90000000e+01,  6.10000000e+01,  6.70000000e+01,\n",
       "         7.10000000e+01],\n",
       "       [ 2.48886485e+00, -8.60623524e-02, -7.89100743e-01,\n",
       "        -6.37779902e-01,  1.11889344e+00,  7.30000000e+01,\n",
       "         7.90000000e+01,  8.30000000e+01,  8.90000000e+01,\n",
       "         9.70000000e+01]])>"
      ]
     },
     "execution_count": 22,
     "metadata": {},
     "output_type": "execute_result"
    }
   ],
   "source": [
    "hasil_concat = tf.concat(\n",
    "    [random_tensor, prime_tensor],\n",
    "    axis=1\n",
    ")\n",
    "hasil_concat"
   ]
  },
  {
   "cell_type": "markdown",
   "metadata": {},
   "source": [
    "#### Dimensi hasil penggabungan di baris"
   ]
  },
  {
   "cell_type": "code",
   "execution_count": 23,
   "metadata": {},
   "outputs": [
    {
     "data": {
      "text/plain": [
       "TensorShape([5, 10])"
      ]
     },
     "execution_count": 23,
     "metadata": {},
     "output_type": "execute_result"
    }
   ],
   "source": [
    "hasil_concat.shape\n"
   ]
  },
  {
   "cell_type": "markdown",
   "metadata": {},
   "source": [
    "# No. 7\n",
    "### Tampilkan hasil sorting dari kedua variable di atas (descending)."
   ]
  },
  {
   "cell_type": "markdown",
   "metadata": {},
   "source": [
    "#### Sorting random_tensor"
   ]
  },
  {
   "cell_type": "code",
   "execution_count": 24,
   "metadata": {},
   "outputs": [
    {
     "data": {
      "text/plain": [
       "<tf.Tensor: shape=(5, 5), dtype=float64, numpy=\n",
       "array([[ 1.28487729,  0.28740661, -0.35390189, -0.59635212, -0.80799284],\n",
       "       [ 1.66439882,  1.34767726, -0.16313212, -0.19060832, -0.20503531],\n",
       "       [ 0.81756306, -0.54036268, -0.80801716, -0.84975082, -1.11108208],\n",
       "       [ 1.01724695,  0.64418041, -0.23742979, -0.60647045, -0.63694441],\n",
       "       [ 2.48886485,  1.11889344, -0.08606235, -0.6377799 , -0.78910074]])>"
      ]
     },
     "execution_count": 24,
     "metadata": {},
     "output_type": "execute_result"
    }
   ],
   "source": [
    "tf.sort(random_tensor, direction=\"DESCENDING\")"
   ]
  },
  {
   "cell_type": "markdown",
   "metadata": {},
   "source": [
    "#### Sorting prime_tensor"
   ]
  },
  {
   "cell_type": "code",
   "execution_count": 25,
   "metadata": {},
   "outputs": [
    {
     "data": {
      "text/plain": [
       "<tf.Tensor: shape=(5, 5), dtype=float64, numpy=\n",
       "array([[11.,  7.,  5.,  3.,  2.],\n",
       "       [29., 23., 19., 17., 13.],\n",
       "       [47., 43., 41., 37., 31.],\n",
       "       [71., 67., 61., 59., 53.],\n",
       "       [97., 89., 83., 79., 73.]])>"
      ]
     },
     "execution_count": 25,
     "metadata": {},
     "output_type": "execute_result"
    }
   ],
   "source": [
    "tf.sort(prime_tensor, direction=\"DESCENDING\")"
   ]
  }
 ],
 "metadata": {
  "kernelspec": {
   "display_name": "Python 3.10.7 64-bit",
   "language": "python",
   "name": "python3"
  },
  "language_info": {
   "codemirror_mode": {
    "name": "ipython",
    "version": 3
   },
   "file_extension": ".py",
   "mimetype": "text/x-python",
   "name": "python",
   "nbconvert_exporter": "python",
   "pygments_lexer": "ipython3",
   "version": "3.10.7"
  },
  "orig_nbformat": 4,
  "vscode": {
   "interpreter": {
    "hash": "afb734500600fd355917ca529030176ea0ca205570884b88f2f6f7d791fd3fbe"
   }
  }
 },
 "nbformat": 4,
 "nbformat_minor": 2
}
