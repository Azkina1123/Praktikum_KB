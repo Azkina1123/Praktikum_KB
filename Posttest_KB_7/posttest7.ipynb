{
 "cells": [
  {
   "cell_type": "markdown",
   "metadata": {},
   "source": [
    "AZIIZAH OKI SHOFRINA <br>\n",
    "2109106004 <br>\n",
    "INFORMATIKA A'21"
   ]
  },
  {
   "cell_type": "markdown",
   "metadata": {},
   "source": [
    "#### Import modul"
   ]
  },
  {
   "cell_type": "code",
   "execution_count": 1,
   "metadata": {},
   "outputs": [],
   "source": [
    "import tensorflow as tf"
   ]
  },
  {
   "cell_type": "markdown",
   "metadata": {},
   "source": [
    "# No. 1\n",
    "### Buatlah sebuah tensor dengan shape (5, 5) dengan nilai random yang disimpan dalam variable random_tensor."
   ]
  },
  {
   "cell_type": "code",
   "execution_count": 1,
   "metadata": {},
   "outputs": [
    {
     "ename": "NameError",
     "evalue": "name 'tf' is not defined",
     "output_type": "error",
     "traceback": [
      "\u001b[1;31m---------------------------------------------------------------------------\u001b[0m",
      "\u001b[1;31mNameError\u001b[0m                                 Traceback (most recent call last)",
      "Cell \u001b[1;32mIn [1], line 1\u001b[0m\n\u001b[1;32m----> 1\u001b[0m random_tensor \u001b[39m=\u001b[39m tf\u001b[39m.\u001b[39mrandom\u001b[39m.\u001b[39mnormal([\u001b[39m5\u001b[39m, \u001b[39m5\u001b[39m], dtype\u001b[39m=\u001b[39mtf\u001b[39m.\u001b[39mfloat64)\n\u001b[0;32m      2\u001b[0m \u001b[39mprint\u001b[39m(random_tensor)\n",
      "\u001b[1;31mNameError\u001b[0m: name 'tf' is not defined"
     ]
    }
   ],
   "source": [
    "random_tensor = tf.random.normal([5, 5], dtype=tf.float64)\n",
    "print(random_tensor)"
   ]
  },
  {
   "cell_type": "markdown",
   "metadata": {},
   "source": [
    "# No. 2\n",
    "### Buatlah sebuah tensor dengan shape (5, 5) dari sebuah list dengan nilai bilangan prima dalam variable prime_tensor."
   ]
  },
  {
   "cell_type": "code",
   "execution_count": 3,
   "metadata": {},
   "outputs": [
    {
     "data": {
      "text/plain": [
       "<tf.Tensor: shape=(5, 5), dtype=float64, numpy=\n",
       "array([[ 2.,  3.,  5.,  7., 11.],\n",
       "       [13., 17., 19., 23., 29.],\n",
       "       [31., 37., 41., 43., 47.],\n",
       "       [53., 59., 61., 67., 71.],\n",
       "       [73., 79., 83., 89., 97.]])>"
      ]
     },
     "execution_count": 3,
     "metadata": {},
     "output_type": "execute_result"
    }
   ],
   "source": [
    "prime_tensor = tf.convert_to_tensor(\n",
    "    [[2,  3,  5,  7,  11],\n",
    "     [13, 17, 19, 23, 29],\n",
    "     [31, 37, 41, 43, 47],\n",
    "     [53, 59, 61, 67, 71],\n",
    "     [73, 79, 83, 89, 97]],\n",
    "     dtype=tf.float64\n",
    ")\n",
    "print(prime_tensor)"
   ]
  },
  {
   "cell_type": "markdown",
   "metadata": {},
   "source": [
    "# No. 3\n",
    "### Tampilkan dimensi dari kedua variable tersebut."
   ]
  },
  {
   "cell_type": "markdown",
   "metadata": {},
   "source": [
    "### Dimension Display random_tensor\n",
    "#### Menggunakan .shape"
   ]
  },
  {
   "cell_type": "code",
   "execution_count": 4,
   "metadata": {},
   "outputs": [
    {
     "data": {
      "text/plain": [
       "TensorShape([5, 5])"
      ]
     },
     "execution_count": 4,
     "metadata": {},
     "output_type": "execute_result"
    }
   ],
   "source": [
    "print(random_tensor.shape)"
   ]
  },
  {
   "cell_type": "markdown",
   "metadata": {},
   "source": [
    "#### Menggunakan .get_shape"
   ]
  },
  {
   "cell_type": "code",
   "execution_count": 5,
   "metadata": {},
   "outputs": [
    {
     "data": {
      "text/plain": [
       "<bound method _EagerTensorBase.get_shape of <tf.Tensor: shape=(5, 5), dtype=float64, numpy=\n",
       "array([[ 0.34541606, -0.94437116, -0.13089938,  1.01322063,  0.62381698],\n",
       "       [ 0.8440215 ,  0.31081136, -2.30397024,  0.58915141,  0.04920914],\n",
       "       [ 0.33102955, -0.28884039,  1.49577005,  0.80662549,  0.89507286],\n",
       "       [ 2.42467656, -0.38594212, -0.19289149,  1.61783722,  0.60896664],\n",
       "       [-1.14273552, -0.21064338, -0.62970197,  0.7027827 ,  0.04564779]])>>"
      ]
     },
     "execution_count": 5,
     "metadata": {},
     "output_type": "execute_result"
    }
   ],
   "source": [
    "print(random_tensor.get_shape)"
   ]
  },
  {
   "cell_type": "markdown",
   "metadata": {},
   "source": [
    "#### Menggunakan tf.shape()"
   ]
  },
  {
   "cell_type": "code",
   "execution_count": 6,
   "metadata": {},
   "outputs": [
    {
     "data": {
      "text/plain": [
       "<tf.Tensor: shape=(2,), dtype=int32, numpy=array([5, 5])>"
      ]
     },
     "execution_count": 6,
     "metadata": {},
     "output_type": "execute_result"
    }
   ],
   "source": [
    "print(tf.shape(random_tensor))"
   ]
  },
  {
   "cell_type": "markdown",
   "metadata": {},
   "source": [
    "### Dimension Display prime_tensor"
   ]
  },
  {
   "cell_type": "markdown",
   "metadata": {},
   "source": [
    "#### Menggunakan .shape"
   ]
  },
  {
   "cell_type": "code",
   "execution_count": 7,
   "metadata": {},
   "outputs": [
    {
     "data": {
      "text/plain": [
       "TensorShape([5, 5])"
      ]
     },
     "execution_count": 7,
     "metadata": {},
     "output_type": "execute_result"
    }
   ],
   "source": [
    "print(prime_tensor.shape)"
   ]
  },
  {
   "cell_type": "markdown",
   "metadata": {},
   "source": [
    "#### Menggunakan .get_shape"
   ]
  },
  {
   "cell_type": "code",
   "execution_count": 8,
   "metadata": {},
   "outputs": [
    {
     "data": {
      "text/plain": [
       "<bound method _EagerTensorBase.get_shape of <tf.Tensor: shape=(5, 5), dtype=float64, numpy=\n",
       "array([[ 2.,  3.,  5.,  7., 11.],\n",
       "       [13., 17., 19., 23., 29.],\n",
       "       [31., 37., 41., 43., 47.],\n",
       "       [53., 59., 61., 67., 71.],\n",
       "       [73., 79., 83., 89., 97.]])>>"
      ]
     },
     "execution_count": 8,
     "metadata": {},
     "output_type": "execute_result"
    }
   ],
   "source": [
    "print(prime_tensor.get_shape)"
   ]
  },
  {
   "cell_type": "markdown",
   "metadata": {},
   "source": [
    "#### Menggunakan tf.shape()"
   ]
  },
  {
   "cell_type": "code",
   "execution_count": 9,
   "metadata": {},
   "outputs": [
    {
     "data": {
      "text/plain": [
       "<tf.Tensor: shape=(2,), dtype=int32, numpy=array([5, 5])>"
      ]
     },
     "execution_count": 9,
     "metadata": {},
     "output_type": "execute_result"
    }
   ],
   "source": [
    "print(tf.shape(prime_tensor))"
   ]
  },
  {
   "cell_type": "markdown",
   "metadata": {},
   "source": [
    "# No. 4\n",
    "### Tampilkan hasil dari perhitungan aritmetika 2 variable tersebut (Gunakan minimal 5 operator)."
   ]
  },
  {
   "cell_type": "markdown",
   "metadata": {},
   "source": [
    "#### Penjumlahan (tf.add())"
   ]
  },
  {
   "cell_type": "code",
   "execution_count": 10,
   "metadata": {},
   "outputs": [
    {
     "data": {
      "text/plain": [
       "<tf.Tensor: shape=(5, 5), dtype=float64, numpy=\n",
       "array([[ 2.34541606,  2.05562884,  4.86910062,  8.01322063, 11.62381698],\n",
       "       [13.8440215 , 17.31081136, 16.69602976, 23.58915141, 29.04920914],\n",
       "       [31.33102955, 36.71115961, 42.49577005, 43.80662549, 47.89507286],\n",
       "       [55.42467656, 58.61405788, 60.80710851, 68.61783722, 71.60896664],\n",
       "       [71.85726448, 78.78935662, 82.37029803, 89.7027827 , 97.04564779]])>"
      ]
     },
     "execution_count": 10,
     "metadata": {},
     "output_type": "execute_result"
    }
   ],
   "source": [
    "print(tf.add(random_tensor, prime_tensor))"
   ]
  },
  {
   "cell_type": "markdown",
   "metadata": {},
   "source": [
    "#### Pengurangan (tf.subtract())"
   ]
  },
  {
   "cell_type": "code",
   "execution_count": 11,
   "metadata": {},
   "outputs": [
    {
     "data": {
      "text/plain": [
       "<tf.Tensor: shape=(5, 5), dtype=float64, numpy=\n",
       "array([[ -1.65458394,  -3.94437116,  -5.13089938,  -5.98677937,\n",
       "        -10.37618302],\n",
       "       [-12.1559785 , -16.68918864, -21.30397024, -22.41084859,\n",
       "        -28.95079086],\n",
       "       [-30.66897045, -37.28884039, -39.50422995, -42.19337451,\n",
       "        -46.10492714],\n",
       "       [-50.57532344, -59.38594212, -61.19289149, -65.38216278,\n",
       "        -70.39103336],\n",
       "       [-74.14273552, -79.21064338, -83.62970197, -88.2972173 ,\n",
       "        -96.95435221]])>"
      ]
     },
     "execution_count": 11,
     "metadata": {},
     "output_type": "execute_result"
    }
   ],
   "source": [
    "print(tf.subtract(random_tensor, prime_tensor))"
   ]
  },
  {
   "cell_type": "markdown",
   "metadata": {},
   "source": [
    "#### Perkalian (tf.multiply())"
   ]
  },
  {
   "cell_type": "code",
   "execution_count": 12,
   "metadata": {},
   "outputs": [
    {
     "data": {
      "text/plain": [
       "<tf.Tensor: shape=(5, 5), dtype=float64, numpy=\n",
       "array([[  0.69083212,  -2.83311349,  -0.65449691,   7.09254438,\n",
       "          6.86198683],\n",
       "       [ 10.97227947,   5.2837931 , -43.77543462,  13.55048251,\n",
       "          1.427065  ],\n",
       "       [ 10.26191617, -10.68709441,  61.32657201,  34.684896  ,\n",
       "         42.06842462],\n",
       "       [128.50785771, -22.77058526, -11.7663806 , 108.39509371,\n",
       "         43.23663167],\n",
       "       [-83.41969294, -16.64082729, -52.26526339,  62.54765995,\n",
       "          4.42783568]])>"
      ]
     },
     "execution_count": 12,
     "metadata": {},
     "output_type": "execute_result"
    }
   ],
   "source": [
    "print(tf.multiply(random_tensor, prime_tensor))"
   ]
  },
  {
   "cell_type": "markdown",
   "metadata": {},
   "source": [
    "#### Pembagian (tf.divide())"
   ]
  },
  {
   "cell_type": "code",
   "execution_count": 13,
   "metadata": {},
   "outputs": [
    {
     "data": {
      "text/plain": [
       "<tf.Tensor: shape=(5, 5), dtype=float64, numpy=\n",
       "array([[ 0.17270803, -0.31479039, -0.02617988,  0.1447458 ,  0.05671063],\n",
       "       [ 0.06492473,  0.01828302, -0.12126159,  0.02561528,  0.00169687],\n",
       "       [ 0.01067837, -0.0078065 ,  0.0364822 ,  0.01875873,  0.0190441 ],\n",
       "       [ 0.04574861, -0.00654139, -0.00316216,  0.02414682,  0.00857699],\n",
       "       [-0.01565391, -0.00266637, -0.00758677,  0.00789643,  0.0004706 ]])>"
      ]
     },
     "execution_count": 13,
     "metadata": {},
     "output_type": "execute_result"
    }
   ],
   "source": [
    "print(tf.divide(random_tensor, prime_tensor))"
   ]
  },
  {
   "cell_type": "markdown",
   "metadata": {},
   "source": [
    "#### Pangkat (tf.pow())"
   ]
  },
  {
   "cell_type": "code",
   "execution_count": 14,
   "metadata": {},
   "outputs": [
    {
     "data": {
      "text/plain": [
       "<tf.Tensor: shape=(5, 5), dtype=float64, numpy=\n",
       "array([[ 1.19312255e-001, -8.42225046e-001, -3.84315566e-005,\n",
       "         1.09629682e+000,  5.56710158e-003],\n",
       "       [ 1.10305105e-001,  2.35747446e-009, -7.71010775e+006,\n",
       "         5.19062021e-006,  1.17307817e-038],\n",
       "       [ 1.30577944e-015, -1.10749842e-020,  1.47726410e+007,\n",
       "         9.70271926e-005,  5.46190793e-003],\n",
       "       [ 2.43585902e+020, -4.02539692e-025, -2.53569194e-044,\n",
       "         9.96857559e+013,  5.08321887e-016],\n",
       "       [-1.69839248e+004, -3.63310480e-054, -2.12916456e-017,\n",
       "         2.32848968e-014,  9.19849603e-131]])>"
      ]
     },
     "execution_count": 14,
     "metadata": {},
     "output_type": "execute_result"
    }
   ],
   "source": [
    "print(tf.pow(random_tensor, prime_tensor))"
   ]
  },
  {
   "cell_type": "markdown",
   "metadata": {},
   "source": [
    "#### Logaritma (tf.math.log())"
   ]
  },
  {
   "cell_type": "code",
   "execution_count": 15,
   "metadata": {},
   "outputs": [
    {
     "data": {
      "text/plain": [
       "<tf.Tensor: shape=(5, 5), dtype=float64, numpy=\n",
       "array([[-1.06300562,         nan,         nan,  0.013134  , -0.47189825],\n",
       "       [-0.16957731, -1.16856911,         nan, -0.52907206, -3.01167594],\n",
       "       [-1.10554762,         nan,  0.40264116, -0.2148958 , -0.11085015],\n",
       "       [ 0.88569814,         nan,         nan,  0.48109021, -0.49599179],\n",
       "       [        nan,         nan,         nan, -0.35270754, -3.08680007]])>"
      ]
     },
     "execution_count": 15,
     "metadata": {},
     "output_type": "execute_result"
    }
   ],
   "source": [
    "print(tf.math.log(random_tensor, prime_tensor))"
   ]
  },
  {
   "cell_type": "markdown",
   "metadata": {},
   "source": [
    "# No. 5\n",
    "### Tampilkan nilai maksimum dan minimum dari variable random_tensor."
   ]
  },
  {
   "cell_type": "markdown",
   "metadata": {},
   "source": [
    "#### Nilai maksimum dari kolom"
   ]
  },
  {
   "cell_type": "code",
   "execution_count": 16,
   "metadata": {},
   "outputs": [
    {
     "data": {
      "text/plain": [
       "<tf.Tensor: shape=(5,), dtype=int64, numpy=array([3, 1, 2, 3, 2], dtype=int64)>"
      ]
     },
     "execution_count": 16,
     "metadata": {},
     "output_type": "execute_result"
    }
   ],
   "source": [
    "print(tf.argmax(random_tensor, axis=0))"
   ]
  },
  {
   "cell_type": "markdown",
   "metadata": {},
   "source": [
    "#### Nilai maksimum dari baris"
   ]
  },
  {
   "cell_type": "code",
   "execution_count": 17,
   "metadata": {},
   "outputs": [
    {
     "data": {
      "text/plain": [
       "<tf.Tensor: shape=(5,), dtype=int64, numpy=array([3, 0, 2, 0, 3], dtype=int64)>"
      ]
     },
     "execution_count": 17,
     "metadata": {},
     "output_type": "execute_result"
    }
   ],
   "source": [
    "print(tf.argmax(random_tensor, axis=1))"
   ]
  },
  {
   "cell_type": "markdown",
   "metadata": {},
   "source": [
    "#### Nilai minimum dari kolom"
   ]
  },
  {
   "cell_type": "code",
   "execution_count": 18,
   "metadata": {},
   "outputs": [
    {
     "data": {
      "text/plain": [
       "<tf.Tensor: shape=(5,), dtype=int64, numpy=array([4, 0, 1, 1, 4], dtype=int64)>"
      ]
     },
     "execution_count": 18,
     "metadata": {},
     "output_type": "execute_result"
    }
   ],
   "source": [
    "print(tf.argmin(random_tensor, axis=0))"
   ]
  },
  {
   "cell_type": "markdown",
   "metadata": {},
   "source": [
    "#### Nilai minimum dari baris"
   ]
  },
  {
   "cell_type": "code",
   "execution_count": 2,
   "metadata": {},
   "outputs": [
    {
     "ename": "NameError",
     "evalue": "name 'tf' is not defined",
     "output_type": "error",
     "traceback": [
      "\u001b[1;31m---------------------------------------------------------------------------\u001b[0m",
      "\u001b[1;31mNameError\u001b[0m                                 Traceback (most recent call last)",
      "Cell \u001b[1;32mIn [2], line 1\u001b[0m\n\u001b[1;32m----> 1\u001b[0m \u001b[39mprint\u001b[39m(tf\u001b[39m.\u001b[39margmin(random_tensor, axis\u001b[39m=\u001b[39m\u001b[39m1\u001b[39m))\n",
      "\u001b[1;31mNameError\u001b[0m: name 'tf' is not defined"
     ]
    }
   ],
   "source": [
    "print(tf.argmin(random_tensor, axis=1))"
   ]
  },
  {
   "cell_type": "markdown",
   "metadata": {},
   "source": [
    "# No. 6\n",
    "### Tampilkan hasil dari penggabungan variable random_tensor dengan prime_tensor (concatenation)"
   ]
  },
  {
   "cell_type": "markdown",
   "metadata": {},
   "source": [
    "#### Hasil penggabungan berdasarkan dimensi kolom"
   ]
  },
  {
   "cell_type": "code",
   "execution_count": 20,
   "metadata": {},
   "outputs": [
    {
     "data": {
      "text/plain": [
       "<tf.Tensor: shape=(10, 5), dtype=float64, numpy=\n",
       "array([[ 3.45416060e-01, -9.44371164e-01, -1.30899382e-01,\n",
       "         1.01322063e+00,  6.23816985e-01],\n",
       "       [ 8.44021498e-01,  3.10811359e-01, -2.30397024e+00,\n",
       "         5.89151414e-01,  4.92091379e-02],\n",
       "       [ 3.31029554e-01, -2.88840390e-01,  1.49577005e+00,\n",
       "         8.06625488e-01,  8.95072864e-01],\n",
       "       [ 2.42467656e+00, -3.85942123e-01, -1.92891485e-01,\n",
       "         1.61783722e+00,  6.08966643e-01],\n",
       "       [-1.14273552e+00, -2.10643383e-01, -6.29701969e-01,\n",
       "         7.02782696e-01,  4.56477905e-02],\n",
       "       [ 2.00000000e+00,  3.00000000e+00,  5.00000000e+00,\n",
       "         7.00000000e+00,  1.10000000e+01],\n",
       "       [ 1.30000000e+01,  1.70000000e+01,  1.90000000e+01,\n",
       "         2.30000000e+01,  2.90000000e+01],\n",
       "       [ 3.10000000e+01,  3.70000000e+01,  4.10000000e+01,\n",
       "         4.30000000e+01,  4.70000000e+01],\n",
       "       [ 5.30000000e+01,  5.90000000e+01,  6.10000000e+01,\n",
       "         6.70000000e+01,  7.10000000e+01],\n",
       "       [ 7.30000000e+01,  7.90000000e+01,  8.30000000e+01,\n",
       "         8.90000000e+01,  9.70000000e+01]])>"
      ]
     },
     "execution_count": 20,
     "metadata": {},
     "output_type": "execute_result"
    }
   ],
   "source": [
    "hasil_concat = tf.concat(\n",
    "    [random_tensor, prime_tensor],\n",
    "    axis=0\n",
    ")\n",
    "print(hasil_concat)"
   ]
  },
  {
   "cell_type": "markdown",
   "metadata": {},
   "source": [
    "#### Dimensi hasil penggabungan di kolom"
   ]
  },
  {
   "cell_type": "code",
   "execution_count": 21,
   "metadata": {},
   "outputs": [
    {
     "data": {
      "text/plain": [
       "TensorShape([10, 5])"
      ]
     },
     "execution_count": 21,
     "metadata": {},
     "output_type": "execute_result"
    }
   ],
   "source": [
    "print(hasil_concat.shape)"
   ]
  },
  {
   "cell_type": "markdown",
   "metadata": {},
   "source": [
    "#### Hasil penggabungan berdasarkan dimensi baris"
   ]
  },
  {
   "cell_type": "code",
   "execution_count": 22,
   "metadata": {},
   "outputs": [
    {
     "data": {
      "text/plain": [
       "<tf.Tensor: shape=(5, 10), dtype=float64, numpy=\n",
       "array([[ 3.45416060e-01, -9.44371164e-01, -1.30899382e-01,\n",
       "         1.01322063e+00,  6.23816985e-01,  2.00000000e+00,\n",
       "         3.00000000e+00,  5.00000000e+00,  7.00000000e+00,\n",
       "         1.10000000e+01],\n",
       "       [ 8.44021498e-01,  3.10811359e-01, -2.30397024e+00,\n",
       "         5.89151414e-01,  4.92091379e-02,  1.30000000e+01,\n",
       "         1.70000000e+01,  1.90000000e+01,  2.30000000e+01,\n",
       "         2.90000000e+01],\n",
       "       [ 3.31029554e-01, -2.88840390e-01,  1.49577005e+00,\n",
       "         8.06625488e-01,  8.95072864e-01,  3.10000000e+01,\n",
       "         3.70000000e+01,  4.10000000e+01,  4.30000000e+01,\n",
       "         4.70000000e+01],\n",
       "       [ 2.42467656e+00, -3.85942123e-01, -1.92891485e-01,\n",
       "         1.61783722e+00,  6.08966643e-01,  5.30000000e+01,\n",
       "         5.90000000e+01,  6.10000000e+01,  6.70000000e+01,\n",
       "         7.10000000e+01],\n",
       "       [-1.14273552e+00, -2.10643383e-01, -6.29701969e-01,\n",
       "         7.02782696e-01,  4.56477905e-02,  7.30000000e+01,\n",
       "         7.90000000e+01,  8.30000000e+01,  8.90000000e+01,\n",
       "         9.70000000e+01]])>"
      ]
     },
     "execution_count": 22,
     "metadata": {},
     "output_type": "execute_result"
    }
   ],
   "source": [
    "hasil_concat = tf.concat(\n",
    "    [random_tensor, prime_tensor],\n",
    "    axis=1\n",
    ")\n",
    "print(hasil_concat)"
   ]
  },
  {
   "cell_type": "markdown",
   "metadata": {},
   "source": [
    "#### Dimensi hasil penggabungan di baris"
   ]
  },
  {
   "cell_type": "code",
   "execution_count": 23,
   "metadata": {},
   "outputs": [
    {
     "data": {
      "text/plain": [
       "TensorShape([5, 10])"
      ]
     },
     "execution_count": 23,
     "metadata": {},
     "output_type": "execute_result"
    }
   ],
   "source": [
    "print(hasil_concat.shape)\n"
   ]
  },
  {
   "cell_type": "markdown",
   "metadata": {},
   "source": [
    "# No. 7\n",
    "### Tampilkan hasil sorting dari kedua variable di atas (descending)."
   ]
  },
  {
   "cell_type": "markdown",
   "metadata": {},
   "source": [
    "#### Sorting random_tensor"
   ]
  },
  {
   "cell_type": "code",
   "execution_count": 24,
   "metadata": {},
   "outputs": [
    {
     "data": {
      "text/plain": [
       "<tf.Tensor: shape=(5, 5), dtype=float64, numpy=\n",
       "array([[ 1.01322063,  0.62381698,  0.34541606, -0.13089938, -0.94437116],\n",
       "       [ 0.8440215 ,  0.58915141,  0.31081136,  0.04920914, -2.30397024],\n",
       "       [ 1.49577005,  0.89507286,  0.80662549,  0.33102955, -0.28884039],\n",
       "       [ 2.42467656,  1.61783722,  0.60896664, -0.19289149, -0.38594212],\n",
       "       [ 0.7027827 ,  0.04564779, -0.21064338, -0.62970197, -1.14273552]])>"
      ]
     },
     "execution_count": 24,
     "metadata": {},
     "output_type": "execute_result"
    }
   ],
   "source": [
    "print(tf.sort(random_tensor, direction=\"DESCENDING\"))"
   ]
  },
  {
   "cell_type": "markdown",
   "metadata": {},
   "source": [
    "#### Sorting prime_tensor"
   ]
  },
  {
   "cell_type": "code",
   "execution_count": 25,
   "metadata": {},
   "outputs": [
    {
     "data": {
      "text/plain": [
       "<tf.Tensor: shape=(5, 5), dtype=float64, numpy=\n",
       "array([[11.,  7.,  5.,  3.,  2.],\n",
       "       [29., 23., 19., 17., 13.],\n",
       "       [47., 43., 41., 37., 31.],\n",
       "       [71., 67., 61., 59., 53.],\n",
       "       [97., 89., 83., 79., 73.]])>"
      ]
     },
     "execution_count": 25,
     "metadata": {},
     "output_type": "execute_result"
    }
   ],
   "source": [
    "print(tf.sort(prime_tensor, direction=\"DESCENDING\"))"
   ]
  }
 ],
 "metadata": {
  "kernelspec": {
   "display_name": "Python 3 (ipykernel)",
   "language": "python",
   "name": "python3"
  },
  "language_info": {
   "codemirror_mode": {
    "name": "ipython",
    "version": 3
   },
   "file_extension": ".py",
   "mimetype": "text/x-python",
   "name": "python",
   "nbconvert_exporter": "python",
   "pygments_lexer": "ipython3",
   "version": "3.10.7"
  },
  "vscode": {
   "interpreter": {
    "hash": "afb734500600fd355917ca529030176ea0ca205570884b88f2f6f7d791fd3fbe"
   }
  }
 },
 "nbformat": 4,
 "nbformat_minor": 2
}
